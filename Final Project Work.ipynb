{
 "cells": [
  {
   "cell_type": "code",
   "execution_count": 1,
   "metadata": {},
   "outputs": [],
   "source": [
    "# Import the libraries\n",
    "import numpy as np\n",
    "import matplotlib.pyplot as plt\n",
    "import pandas as pd\n",
    "import seaborn as sns"
   ]
  },
  {
   "cell_type": "code",
   "execution_count": 2,
   "metadata": {},
   "outputs": [],
   "source": [
    "# Read the data\n",
    "df = pd.read_csv('project1.csv')"
   ]
  },
  {
   "cell_type": "code",
   "execution_count": 3,
   "metadata": {},
   "outputs": [
    {
     "data": {
      "text/html": [
       "<div>\n",
       "<style scoped>\n",
       "    .dataframe tbody tr th:only-of-type {\n",
       "        vertical-align: middle;\n",
       "    }\n",
       "\n",
       "    .dataframe tbody tr th {\n",
       "        vertical-align: top;\n",
       "    }\n",
       "\n",
       "    .dataframe thead th {\n",
       "        text-align: right;\n",
       "    }\n",
       "</style>\n",
       "<table border=\"1\" class=\"dataframe\">\n",
       "  <thead>\n",
       "    <tr style=\"text-align: right;\">\n",
       "      <th></th>\n",
       "      <th>title</th>\n",
       "      <th>Location</th>\n",
       "      <th>department</th>\n",
       "      <th>salary_range</th>\n",
       "      <th>company_profile</th>\n",
       "      <th>description</th>\n",
       "      <th>requirements</th>\n",
       "      <th>benefits</th>\n",
       "      <th>telecommuting</th>\n",
       "      <th>has_company_logo</th>\n",
       "      <th>has_questions</th>\n",
       "      <th>employment_type</th>\n",
       "      <th>required_experience</th>\n",
       "      <th>required_education</th>\n",
       "      <th>industry</th>\n",
       "      <th>function</th>\n",
       "      <th>fraudulent</th>\n",
       "      <th>in_balanced_dataset</th>\n",
       "    </tr>\n",
       "  </thead>\n",
       "  <tbody>\n",
       "    <tr>\n",
       "      <th>0</th>\n",
       "      <td>Marketing Intern</td>\n",
       "      <td>US</td>\n",
       "      <td>Marketing</td>\n",
       "      <td>NaN</td>\n",
       "      <td>&lt;h3&gt;We're Food52, and we've created a groundbr...</td>\n",
       "      <td>&lt;p&gt;Food52, a fast-growing, James Beard Award-w...</td>\n",
       "      <td>&lt;ul&gt;\\r\\n&lt;li&gt;Experience with content management...</td>\n",
       "      <td>NaN</td>\n",
       "      <td>f</td>\n",
       "      <td>t</td>\n",
       "      <td>f</td>\n",
       "      <td>Other</td>\n",
       "      <td>Internship</td>\n",
       "      <td>NaN</td>\n",
       "      <td>NaN</td>\n",
       "      <td>Marketing</td>\n",
       "      <td>f</td>\n",
       "      <td>f</td>\n",
       "    </tr>\n",
       "    <tr>\n",
       "      <th>1</th>\n",
       "      <td>Customer Service - Cloud Video Production</td>\n",
       "      <td>NZ</td>\n",
       "      <td>Success</td>\n",
       "      <td>NaN</td>\n",
       "      <td>&lt;h3&gt;90 Seconds, the worlds Cloud Video Product...</td>\n",
       "      <td>&lt;p&gt;Organised - Focused - Vibrant - Awesome!&lt;br...</td>\n",
       "      <td>&lt;p&gt;&lt;b&gt;What we expect from you:&lt;/b&gt;&lt;/p&gt;\\r\\n&lt;p&gt;Y...</td>\n",
       "      <td>&lt;h3&gt;&lt;b&gt;What you will get from us&lt;/b&gt;&lt;/h3&gt;\\r\\n&lt;...</td>\n",
       "      <td>f</td>\n",
       "      <td>t</td>\n",
       "      <td>f</td>\n",
       "      <td>Full-time</td>\n",
       "      <td>Not Applicable</td>\n",
       "      <td>NaN</td>\n",
       "      <td>Marketing and Advertising</td>\n",
       "      <td>Customer Service</td>\n",
       "      <td>f</td>\n",
       "      <td>f</td>\n",
       "    </tr>\n",
       "    <tr>\n",
       "      <th>2</th>\n",
       "      <td>Commissioning Machinery Assistant (CMA)</td>\n",
       "      <td>US</td>\n",
       "      <td>NaN</td>\n",
       "      <td>NaN</td>\n",
       "      <td>&lt;h3&gt;&lt;/h3&gt;\\r\\n&lt;p&gt;Valor Services provides Workfo...</td>\n",
       "      <td>&lt;p&gt;Our client, located in Houston, is actively...</td>\n",
       "      <td>&lt;ul&gt;\\r\\n&lt;li&gt;Implement pre-commissioning and co...</td>\n",
       "      <td>NaN</td>\n",
       "      <td>f</td>\n",
       "      <td>t</td>\n",
       "      <td>f</td>\n",
       "      <td>NaN</td>\n",
       "      <td>NaN</td>\n",
       "      <td>NaN</td>\n",
       "      <td>NaN</td>\n",
       "      <td>NaN</td>\n",
       "      <td>f</td>\n",
       "      <td>f</td>\n",
       "    </tr>\n",
       "    <tr>\n",
       "      <th>3</th>\n",
       "      <td>Account Executive - Washington DC</td>\n",
       "      <td>US</td>\n",
       "      <td>Sales</td>\n",
       "      <td>NaN</td>\n",
       "      <td>&lt;p&gt;Our passion for improving quality of life t...</td>\n",
       "      <td>&lt;p&gt;&lt;b&gt;THE COMPANY: ESRI – Environmental System...</td>\n",
       "      <td>&lt;ul&gt;\\r\\n&lt;li&gt;\\r\\n&lt;b&gt;EDUCATION: &lt;/b&gt;Bachelor’s o...</td>\n",
       "      <td>&lt;p&gt;Our culture is anything but corporate—we ha...</td>\n",
       "      <td>f</td>\n",
       "      <td>t</td>\n",
       "      <td>f</td>\n",
       "      <td>Full-time</td>\n",
       "      <td>Mid-Senior level</td>\n",
       "      <td>Bachelor's Degree</td>\n",
       "      <td>Computer Software</td>\n",
       "      <td>Sales</td>\n",
       "      <td>f</td>\n",
       "      <td>f</td>\n",
       "    </tr>\n",
       "    <tr>\n",
       "      <th>4</th>\n",
       "      <td>Bill Review Manager</td>\n",
       "      <td>US</td>\n",
       "      <td>NaN</td>\n",
       "      <td>NaN</td>\n",
       "      <td>&lt;p&gt;SpotSource Solutions LLC is a Global Human ...</td>\n",
       "      <td>&lt;p&gt;&lt;b&gt;JOB TITLE:&lt;/b&gt; Itemization Review Manage...</td>\n",
       "      <td>&lt;p&gt;&lt;b&gt;QUALIFICATIONS:&lt;/b&gt;&lt;/p&gt;\\r\\n&lt;ul&gt;\\r\\n&lt;li&gt;R...</td>\n",
       "      <td>&lt;p&gt;Full Benefits Offered&lt;/p&gt;</td>\n",
       "      <td>f</td>\n",
       "      <td>t</td>\n",
       "      <td>t</td>\n",
       "      <td>Full-time</td>\n",
       "      <td>Mid-Senior level</td>\n",
       "      <td>Bachelor's Degree</td>\n",
       "      <td>Hospital &amp; Health Care</td>\n",
       "      <td>Health Care Provider</td>\n",
       "      <td>f</td>\n",
       "      <td>f</td>\n",
       "    </tr>\n",
       "  </tbody>\n",
       "</table>\n",
       "</div>"
      ],
      "text/plain": [
       "                                       title Location department salary_range  \\\n",
       "0                           Marketing Intern       US  Marketing          NaN   \n",
       "1  Customer Service - Cloud Video Production       NZ    Success          NaN   \n",
       "2    Commissioning Machinery Assistant (CMA)       US        NaN          NaN   \n",
       "3          Account Executive - Washington DC       US      Sales          NaN   \n",
       "4                        Bill Review Manager       US        NaN          NaN   \n",
       "\n",
       "                                     company_profile  \\\n",
       "0  <h3>We're Food52, and we've created a groundbr...   \n",
       "1  <h3>90 Seconds, the worlds Cloud Video Product...   \n",
       "2  <h3></h3>\\r\\n<p>Valor Services provides Workfo...   \n",
       "3  <p>Our passion for improving quality of life t...   \n",
       "4  <p>SpotSource Solutions LLC is a Global Human ...   \n",
       "\n",
       "                                         description  \\\n",
       "0  <p>Food52, a fast-growing, James Beard Award-w...   \n",
       "1  <p>Organised - Focused - Vibrant - Awesome!<br...   \n",
       "2  <p>Our client, located in Houston, is actively...   \n",
       "3  <p><b>THE COMPANY: ESRI – Environmental System...   \n",
       "4  <p><b>JOB TITLE:</b> Itemization Review Manage...   \n",
       "\n",
       "                                        requirements  \\\n",
       "0  <ul>\\r\\n<li>Experience with content management...   \n",
       "1  <p><b>What we expect from you:</b></p>\\r\\n<p>Y...   \n",
       "2  <ul>\\r\\n<li>Implement pre-commissioning and co...   \n",
       "3  <ul>\\r\\n<li>\\r\\n<b>EDUCATION: </b>Bachelor’s o...   \n",
       "4  <p><b>QUALIFICATIONS:</b></p>\\r\\n<ul>\\r\\n<li>R...   \n",
       "\n",
       "                                            benefits telecommuting  \\\n",
       "0                                                NaN             f   \n",
       "1  <h3><b>What you will get from us</b></h3>\\r\\n<...             f   \n",
       "2                                                NaN             f   \n",
       "3  <p>Our culture is anything but corporate—we ha...             f   \n",
       "4                       <p>Full Benefits Offered</p>             f   \n",
       "\n",
       "  has_company_logo has_questions employment_type required_experience  \\\n",
       "0                t             f           Other          Internship   \n",
       "1                t             f       Full-time      Not Applicable   \n",
       "2                t             f             NaN                 NaN   \n",
       "3                t             f       Full-time    Mid-Senior level   \n",
       "4                t             t       Full-time    Mid-Senior level   \n",
       "\n",
       "  required_education                   industry              function  \\\n",
       "0                NaN                        NaN             Marketing   \n",
       "1                NaN  Marketing and Advertising      Customer Service   \n",
       "2                NaN                        NaN                   NaN   \n",
       "3  Bachelor's Degree          Computer Software                 Sales   \n",
       "4  Bachelor's Degree     Hospital & Health Care  Health Care Provider   \n",
       "\n",
       "  fraudulent in_balanced_dataset  \n",
       "0          f                   f  \n",
       "1          f                   f  \n",
       "2          f                   f  \n",
       "3          f                   f  \n",
       "4          f                   f  "
      ]
     },
     "execution_count": 3,
     "metadata": {},
     "output_type": "execute_result"
    }
   ],
   "source": [
    "#View the first five rows of data from \n",
    "df.head()"
   ]
  },
  {
   "cell_type": "code",
   "execution_count": 4,
   "metadata": {},
   "outputs": [
    {
     "data": {
      "text/plain": [
       "(17860, 18)"
      ]
     },
     "execution_count": 4,
     "metadata": {},
     "output_type": "execute_result"
    }
   ],
   "source": [
    "#size of the data\n",
    "df.shape"
   ]
  },
  {
   "cell_type": "markdown",
   "metadata": {},
   "source": [
    "## Data Cleaning"
   ]
  },
  {
   "cell_type": "code",
   "execution_count": 5,
   "metadata": {},
   "outputs": [
    {
     "data": {
      "text/plain": [
       "title                      0\n",
       "Location                 346\n",
       "department             11539\n",
       "salary_range           14993\n",
       "company_profile         3305\n",
       "description                1\n",
       "requirements            2689\n",
       "benefits                7193\n",
       "telecommuting              0\n",
       "has_company_logo           0\n",
       "has_questions              0\n",
       "employment_type         3467\n",
       "required_experience     7042\n",
       "required_education      8095\n",
       "industry                4896\n",
       "function                6450\n",
       "fraudulent                 0\n",
       "in_balanced_dataset        0\n",
       "dtype: int64"
      ]
     },
     "execution_count": 5,
     "metadata": {},
     "output_type": "execute_result"
    }
   ],
   "source": [
    "#Find out the missing values\n",
    "df.apply(lambda x:sum(x.isnull()))"
   ]
  },
  {
   "cell_type": "code",
   "execution_count": 6,
   "metadata": {},
   "outputs": [],
   "source": [
    "#Missing value percentage\n",
    "percent_missing = df.isnull().sum() * 100 / len(df)\n",
    "missing_value_df = pd.DataFrame({'percent_missing': percent_missing})"
   ]
  },
  {
   "cell_type": "code",
   "execution_count": 7,
   "metadata": {},
   "outputs": [
    {
     "data": {
      "text/html": [
       "<div>\n",
       "<style scoped>\n",
       "    .dataframe tbody tr th:only-of-type {\n",
       "        vertical-align: middle;\n",
       "    }\n",
       "\n",
       "    .dataframe tbody tr th {\n",
       "        vertical-align: top;\n",
       "    }\n",
       "\n",
       "    .dataframe thead th {\n",
       "        text-align: right;\n",
       "    }\n",
       "</style>\n",
       "<table border=\"1\" class=\"dataframe\">\n",
       "  <thead>\n",
       "    <tr style=\"text-align: right;\">\n",
       "      <th></th>\n",
       "      <th>percent_missing</th>\n",
       "    </tr>\n",
       "  </thead>\n",
       "  <tbody>\n",
       "    <tr>\n",
       "      <th>title</th>\n",
       "      <td>0.000000</td>\n",
       "    </tr>\n",
       "    <tr>\n",
       "      <th>Location</th>\n",
       "      <td>1.937290</td>\n",
       "    </tr>\n",
       "    <tr>\n",
       "      <th>department</th>\n",
       "      <td>64.608063</td>\n",
       "    </tr>\n",
       "    <tr>\n",
       "      <th>salary_range</th>\n",
       "      <td>83.947368</td>\n",
       "    </tr>\n",
       "    <tr>\n",
       "      <th>company_profile</th>\n",
       "      <td>18.505039</td>\n",
       "    </tr>\n",
       "    <tr>\n",
       "      <th>description</th>\n",
       "      <td>0.005599</td>\n",
       "    </tr>\n",
       "    <tr>\n",
       "      <th>requirements</th>\n",
       "      <td>15.055991</td>\n",
       "    </tr>\n",
       "    <tr>\n",
       "      <th>benefits</th>\n",
       "      <td>40.274356</td>\n",
       "    </tr>\n",
       "    <tr>\n",
       "      <th>telecommuting</th>\n",
       "      <td>0.000000</td>\n",
       "    </tr>\n",
       "    <tr>\n",
       "      <th>has_company_logo</th>\n",
       "      <td>0.000000</td>\n",
       "    </tr>\n",
       "    <tr>\n",
       "      <th>has_questions</th>\n",
       "      <td>0.000000</td>\n",
       "    </tr>\n",
       "    <tr>\n",
       "      <th>employment_type</th>\n",
       "      <td>19.412094</td>\n",
       "    </tr>\n",
       "    <tr>\n",
       "      <th>required_experience</th>\n",
       "      <td>39.428891</td>\n",
       "    </tr>\n",
       "    <tr>\n",
       "      <th>required_education</th>\n",
       "      <td>45.324748</td>\n",
       "    </tr>\n",
       "    <tr>\n",
       "      <th>industry</th>\n",
       "      <td>27.413214</td>\n",
       "    </tr>\n",
       "    <tr>\n",
       "      <th>function</th>\n",
       "      <td>36.114222</td>\n",
       "    </tr>\n",
       "    <tr>\n",
       "      <th>fraudulent</th>\n",
       "      <td>0.000000</td>\n",
       "    </tr>\n",
       "    <tr>\n",
       "      <th>in_balanced_dataset</th>\n",
       "      <td>0.000000</td>\n",
       "    </tr>\n",
       "  </tbody>\n",
       "</table>\n",
       "</div>"
      ],
      "text/plain": [
       "                     percent_missing\n",
       "title                       0.000000\n",
       "Location                    1.937290\n",
       "department                 64.608063\n",
       "salary_range               83.947368\n",
       "company_profile            18.505039\n",
       "description                 0.005599\n",
       "requirements               15.055991\n",
       "benefits                   40.274356\n",
       "telecommuting               0.000000\n",
       "has_company_logo            0.000000\n",
       "has_questions               0.000000\n",
       "employment_type            19.412094\n",
       "required_experience        39.428891\n",
       "required_education         45.324748\n",
       "industry                   27.413214\n",
       "function                   36.114222\n",
       "fraudulent                  0.000000\n",
       "in_balanced_dataset         0.000000"
      ]
     },
     "execution_count": 7,
     "metadata": {},
     "output_type": "execute_result"
    }
   ],
   "source": [
    "missing_value_df"
   ]
  },
  {
   "cell_type": "markdown",
   "metadata": {},
   "source": [
    "The percentage of values missing for department and salary range is more than 60% so according to our thinking these variables are not at all useful for predicting the target variable so we are dropping these variables"
   ]
  },
  {
   "cell_type": "code",
   "execution_count": 8,
   "metadata": {},
   "outputs": [],
   "source": [
    "df_new = df.drop(['department', 'salary_range'], axis = 1)"
   ]
  },
  {
   "cell_type": "markdown",
   "metadata": {},
   "source": [
    "## Imputting the missing values using maximum value counts techniques"
   ]
  },
  {
   "cell_type": "code",
   "execution_count": 9,
   "metadata": {
    "scrolled": true
   },
   "outputs": [
    {
     "data": {
      "text/plain": [
       "US    10650\n",
       "GB     2380\n",
       "GR      933\n",
       "CA      457\n",
       "DE      383\n",
       "NZ      333\n",
       "IN      276\n",
       "AU      214\n",
       "PH      132\n",
       "NL      127\n",
       "BE      117\n",
       "IE      114\n",
       "SG       80\n",
       "HK       77\n",
       "PL       76\n",
       "IL       72\n",
       "EE       72\n",
       "FR       70\n",
       "ES       66\n",
       "AE       53\n",
       "EG       52\n",
       "SE       49\n",
       "RO       46\n",
       "DK       42\n",
       "ZA       39\n",
       "BR       36\n",
       "IT       31\n",
       "FI       29\n",
       "PK       27\n",
       "LT       23\n",
       "      ...  \n",
       "LV        6\n",
       "CZ        6\n",
       "NI        4\n",
       "VN        4\n",
       "TT        4\n",
       "TW        4\n",
       "VI        3\n",
       "ZM        2\n",
       "LK        2\n",
       "AM        2\n",
       "SK        2\n",
       "KW        2\n",
       "CL        2\n",
       "IS        2\n",
       "BD        2\n",
       "TN        2\n",
       "PE        1\n",
       "CO        1\n",
       "SI        1\n",
       "CM        1\n",
       "KH        1\n",
       "GH        1\n",
       "MA        1\n",
       "KZ        1\n",
       "AL        1\n",
       "SD        1\n",
       "SV        1\n",
       "JM        1\n",
       "UG        1\n",
       "HR        1\n",
       "Name: Location, Length: 90, dtype: int64"
      ]
     },
     "execution_count": 9,
     "metadata": {},
     "output_type": "execute_result"
    }
   ],
   "source": [
    "df_new['Location'].value_counts()"
   ]
  },
  {
   "cell_type": "code",
   "execution_count": 10,
   "metadata": {},
   "outputs": [],
   "source": [
    "df_new= df_new.fillna(value={'Location':'US'})"
   ]
  },
  {
   "cell_type": "code",
   "execution_count": 11,
   "metadata": {},
   "outputs": [
    {
     "data": {
      "text/plain": [
       "Full-time    11604\n",
       "Contract      1524\n",
       "Part-time      797\n",
       "Temporary      241\n",
       "Other          227\n",
       "Name: employment_type, dtype: int64"
      ]
     },
     "execution_count": 11,
     "metadata": {},
     "output_type": "execute_result"
    }
   ],
   "source": [
    "df_new['employment_type'].value_counts()"
   ]
  },
  {
   "cell_type": "code",
   "execution_count": 12,
   "metadata": {},
   "outputs": [],
   "source": [
    "df_new= df_new.fillna( value={'employment_type':'Full-time'})"
   ]
  },
  {
   "cell_type": "code",
   "execution_count": 13,
   "metadata": {},
   "outputs": [
    {
     "data": {
      "text/plain": [
       "Bachelor's Degree                    5137\n",
       "High School or equivalent            2079\n",
       "Unspecified                          1397\n",
       "Master's Degree                       416\n",
       "Associate Degree                      274\n",
       "Certification                         170\n",
       "Some College Coursework Completed     101\n",
       "Professional                           74\n",
       "Vocational                             49\n",
       "Some High School Coursework            27\n",
       "Doctorate                              26\n",
       "Vocational - HS Diploma                 9\n",
       "Vocational - Degree                     6\n",
       "Name: required_education, dtype: int64"
      ]
     },
     "execution_count": 13,
     "metadata": {},
     "output_type": "execute_result"
    }
   ],
   "source": [
    "df_new['required_education'].value_counts()"
   ]
  },
  {
   "cell_type": "code",
   "execution_count": 14,
   "metadata": {},
   "outputs": [],
   "source": [
    "df_new= df_new.fillna( value={'required_education' :\"Bachelor's Degree\"})"
   ]
  },
  {
   "cell_type": "code",
   "execution_count": 15,
   "metadata": {},
   "outputs": [
    {
     "data": {
      "text/plain": [
       "Mid-Senior level    3803\n",
       "Entry level         2694\n",
       "Associate           2296\n",
       "Not Applicable      1115\n",
       "Director             388\n",
       "Internship           381\n",
       "Executive            141\n",
       "Name: required_experience, dtype: int64"
      ]
     },
     "execution_count": 15,
     "metadata": {},
     "output_type": "execute_result"
    }
   ],
   "source": [
    "df_new['required_experience'].value_counts()"
   ]
  },
  {
   "cell_type": "code",
   "execution_count": 16,
   "metadata": {},
   "outputs": [],
   "source": [
    "df_new= df_new.fillna( value={'required_experience':'Mid-Senior level'})"
   ]
  },
  {
   "cell_type": "code",
   "execution_count": 17,
   "metadata": {
    "scrolled": true
   },
   "outputs": [
    {
     "data": {
      "text/plain": [
       "Information Technology    1748\n",
       "Sales                     1463\n",
       "Engineering               1344\n",
       "Customer Service          1227\n",
       "Marketing                  828\n",
       "Administrative             630\n",
       "Design                     340\n",
       "Health Care Provider       338\n",
       "Education                  325\n",
       "Other                      325\n",
       "Management                 317\n",
       "Business Development       228\n",
       "Accounting/Auditing        212\n",
       "Human Resources            205\n",
       "Project Management         183\n",
       "Finance                    172\n",
       "Consulting                 144\n",
       "Writing/Editing            132\n",
       "Art/Creative               132\n",
       "Production                 116\n",
       "Product Management         114\n",
       "Quality Assurance          111\n",
       "Advertising                 90\n",
       "Business Analyst            84\n",
       "Data Analyst                81\n",
       "Public Relations            76\n",
       "Manufacturing               74\n",
       "General Business            68\n",
       "Research                    50\n",
       "Legal                       47\n",
       "Strategy/Planning           46\n",
       "Training                    38\n",
       "Supply Chain                36\n",
       "Financial Analyst           33\n",
       "Distribution                24\n",
       "Purchasing                  15\n",
       "Science                     14\n",
       "Name: function, dtype: int64"
      ]
     },
     "execution_count": 17,
     "metadata": {},
     "output_type": "execute_result"
    }
   ],
   "source": [
    "df_new['function'].value_counts()"
   ]
  },
  {
   "cell_type": "code",
   "execution_count": 18,
   "metadata": {
    "scrolled": true
   },
   "outputs": [
    {
     "data": {
      "text/plain": [
       "Information Technology and Services    1734\n",
       "Computer Software                      1375\n",
       "Internet                               1062\n",
       "Marketing and Advertising               828\n",
       "Education Management                    822\n",
       "Financial Services                      779\n",
       "Hospital & Health Care                  497\n",
       "Consumer Services                       358\n",
       "Telecommunications                      334\n",
       "Oil & Energy                            287\n",
       "Retail                                  222\n",
       "Real Estate                             175\n",
       "Accounting                              159\n",
       "Construction                            158\n",
       "E-Learning                              139\n",
       "Management Consulting                   130\n",
       "Design                                  129\n",
       "Staffing and Recruiting                 127\n",
       "Health, Wellness and Fitness            127\n",
       "Insurance                               123\n",
       "Automotive                              120\n",
       "Logistics and Supply Chain              112\n",
       "Human Resources                         108\n",
       "Online Media                            101\n",
       "Apparel & Fashion                        97\n",
       "Legal Services                           97\n",
       "Facilities Services                      94\n",
       "Hospitality                              88\n",
       "Computer Games                           86\n",
       "Banking                                  84\n",
       "                                       ... \n",
       "Primary/Secondary Education               6\n",
       "Motion Pictures and Film                  6\n",
       "Investment Management                     6\n",
       "Package/Freight Delivery                  5\n",
       "Import and Export                         5\n",
       "Capital Markets                           5\n",
       "Animation                                 5\n",
       "Packaging and Containers                  5\n",
       "Luxury Goods & Jewelry                    4\n",
       "Philanthropy                              4\n",
       "Wireless                                  4\n",
       "Investment Banking                        4\n",
       "Commercial Real Estate                    4\n",
       "Fishery                                   4\n",
       "Plastics                                  3\n",
       "Public Policy                             3\n",
       "Maritime                                  3\n",
       "Performing Arts                           3\n",
       "Mining & Metals                           3\n",
       "Furniture                                 3\n",
       "Military                                  2\n",
       "Nanotechnology                            2\n",
       "Textiles                                  2\n",
       "Libraries                                 2\n",
       "Alternative Dispute Resolution            1\n",
       "Museums and Institutions                  1\n",
       "Ranching                                  1\n",
       "Sporting Goods                            1\n",
       "Wine and Spirits                          1\n",
       "Shipbuilding                              1\n",
       "Name: industry, Length: 131, dtype: int64"
      ]
     },
     "execution_count": 18,
     "metadata": {},
     "output_type": "execute_result"
    }
   ],
   "source": [
    "df_new['industry'].value_counts()"
   ]
  },
  {
   "cell_type": "code",
   "execution_count": 19,
   "metadata": {},
   "outputs": [],
   "source": [
    "df_new= df_new.fillna( value={'function':'Information Technology','industry' :\"Information Technology and Services\"})"
   ]
  },
  {
   "cell_type": "code",
   "execution_count": 20,
   "metadata": {},
   "outputs": [],
   "source": [
    "#Imputting the missing values for all the text fields with \"Not Specified\" \n",
    "df_new= df_new.fillna( value={'requirements':'Not specified','benefits' :'Not Specified', \n",
    "                              'company_profile':\"Not specified\",'description':\"Not specified\"})"
   ]
  },
  {
   "cell_type": "code",
   "execution_count": 21,
   "metadata": {},
   "outputs": [
    {
     "data": {
      "text/plain": [
       "title                  0\n",
       "Location               0\n",
       "company_profile        0\n",
       "description            0\n",
       "requirements           0\n",
       "benefits               0\n",
       "telecommuting          0\n",
       "has_company_logo       0\n",
       "has_questions          0\n",
       "employment_type        0\n",
       "required_experience    0\n",
       "required_education     0\n",
       "industry               0\n",
       "function               0\n",
       "fraudulent             0\n",
       "in_balanced_dataset    0\n",
       "dtype: int64"
      ]
     },
     "execution_count": 21,
     "metadata": {},
     "output_type": "execute_result"
    }
   ],
   "source": [
    "df_new.apply(lambda x:sum(x.isnull()))"
   ]
  },
  {
   "cell_type": "code",
   "execution_count": 22,
   "metadata": {},
   "outputs": [
    {
     "data": {
      "text/plain": [
       "(17860, 16)"
      ]
     },
     "execution_count": 22,
     "metadata": {},
     "output_type": "execute_result"
    }
   ],
   "source": [
    "df_new.shape"
   ]
  },
  {
   "cell_type": "code",
   "execution_count": 23,
   "metadata": {},
   "outputs": [
    {
     "data": {
      "text/plain": [
       "['title',\n",
       " 'Location',\n",
       " 'company_profile',\n",
       " 'description',\n",
       " 'requirements',\n",
       " 'benefits',\n",
       " 'telecommuting',\n",
       " 'has_company_logo',\n",
       " 'has_questions',\n",
       " 'employment_type',\n",
       " 'required_experience',\n",
       " 'required_education',\n",
       " 'industry',\n",
       " 'function',\n",
       " 'fraudulent',\n",
       " 'in_balanced_dataset']"
      ]
     },
     "execution_count": 23,
     "metadata": {},
     "output_type": "execute_result"
    }
   ],
   "source": [
    "cols = df_new.columns.tolist()\n",
    "cols"
   ]
  },
  {
   "cell_type": "code",
   "execution_count": 24,
   "metadata": {},
   "outputs": [
    {
     "data": {
      "text/plain": [
       "['title',\n",
       " 'Location',\n",
       " 'company_profile',\n",
       " 'description',\n",
       " 'requirements',\n",
       " 'benefits',\n",
       " 'telecommuting',\n",
       " 'has_company_logo',\n",
       " 'has_questions',\n",
       " 'employment_type',\n",
       " 'required_experience',\n",
       " 'required_education',\n",
       " 'industry',\n",
       " 'function',\n",
       " 'in_balanced_dataset',\n",
       " 'fraudulent']"
      ]
     },
     "execution_count": 24,
     "metadata": {},
     "output_type": "execute_result"
    }
   ],
   "source": [
    "cols.insert(14, cols.pop(cols.index('in_balanced_dataset')))\n",
    "cols"
   ]
  },
  {
   "cell_type": "code",
   "execution_count": 25,
   "metadata": {},
   "outputs": [
    {
     "data": {
      "text/html": [
       "<div>\n",
       "<style scoped>\n",
       "    .dataframe tbody tr th:only-of-type {\n",
       "        vertical-align: middle;\n",
       "    }\n",
       "\n",
       "    .dataframe tbody tr th {\n",
       "        vertical-align: top;\n",
       "    }\n",
       "\n",
       "    .dataframe thead th {\n",
       "        text-align: right;\n",
       "    }\n",
       "</style>\n",
       "<table border=\"1\" class=\"dataframe\">\n",
       "  <thead>\n",
       "    <tr style=\"text-align: right;\">\n",
       "      <th></th>\n",
       "      <th>title</th>\n",
       "      <th>Location</th>\n",
       "      <th>company_profile</th>\n",
       "      <th>description</th>\n",
       "      <th>requirements</th>\n",
       "      <th>benefits</th>\n",
       "      <th>telecommuting</th>\n",
       "      <th>has_company_logo</th>\n",
       "      <th>has_questions</th>\n",
       "      <th>employment_type</th>\n",
       "      <th>required_experience</th>\n",
       "      <th>required_education</th>\n",
       "      <th>industry</th>\n",
       "      <th>function</th>\n",
       "      <th>in_balanced_dataset</th>\n",
       "      <th>fraudulent</th>\n",
       "    </tr>\n",
       "  </thead>\n",
       "  <tbody>\n",
       "    <tr>\n",
       "      <th>0</th>\n",
       "      <td>Marketing Intern</td>\n",
       "      <td>US</td>\n",
       "      <td>&lt;h3&gt;We're Food52, and we've created a groundbr...</td>\n",
       "      <td>&lt;p&gt;Food52, a fast-growing, James Beard Award-w...</td>\n",
       "      <td>&lt;ul&gt;\\r\\n&lt;li&gt;Experience with content management...</td>\n",
       "      <td>Not Specified</td>\n",
       "      <td>f</td>\n",
       "      <td>t</td>\n",
       "      <td>f</td>\n",
       "      <td>Other</td>\n",
       "      <td>Internship</td>\n",
       "      <td>Bachelor's Degree</td>\n",
       "      <td>Information Technology and Services</td>\n",
       "      <td>Marketing</td>\n",
       "      <td>f</td>\n",
       "      <td>f</td>\n",
       "    </tr>\n",
       "    <tr>\n",
       "      <th>1</th>\n",
       "      <td>Customer Service - Cloud Video Production</td>\n",
       "      <td>NZ</td>\n",
       "      <td>&lt;h3&gt;90 Seconds, the worlds Cloud Video Product...</td>\n",
       "      <td>&lt;p&gt;Organised - Focused - Vibrant - Awesome!&lt;br...</td>\n",
       "      <td>&lt;p&gt;&lt;b&gt;What we expect from you:&lt;/b&gt;&lt;/p&gt;\\r\\n&lt;p&gt;Y...</td>\n",
       "      <td>&lt;h3&gt;&lt;b&gt;What you will get from us&lt;/b&gt;&lt;/h3&gt;\\r\\n&lt;...</td>\n",
       "      <td>f</td>\n",
       "      <td>t</td>\n",
       "      <td>f</td>\n",
       "      <td>Full-time</td>\n",
       "      <td>Not Applicable</td>\n",
       "      <td>Bachelor's Degree</td>\n",
       "      <td>Marketing and Advertising</td>\n",
       "      <td>Customer Service</td>\n",
       "      <td>f</td>\n",
       "      <td>f</td>\n",
       "    </tr>\n",
       "    <tr>\n",
       "      <th>2</th>\n",
       "      <td>Commissioning Machinery Assistant (CMA)</td>\n",
       "      <td>US</td>\n",
       "      <td>&lt;h3&gt;&lt;/h3&gt;\\r\\n&lt;p&gt;Valor Services provides Workfo...</td>\n",
       "      <td>&lt;p&gt;Our client, located in Houston, is actively...</td>\n",
       "      <td>&lt;ul&gt;\\r\\n&lt;li&gt;Implement pre-commissioning and co...</td>\n",
       "      <td>Not Specified</td>\n",
       "      <td>f</td>\n",
       "      <td>t</td>\n",
       "      <td>f</td>\n",
       "      <td>Full-time</td>\n",
       "      <td>Mid-Senior level</td>\n",
       "      <td>Bachelor's Degree</td>\n",
       "      <td>Information Technology and Services</td>\n",
       "      <td>Information Technology</td>\n",
       "      <td>f</td>\n",
       "      <td>f</td>\n",
       "    </tr>\n",
       "    <tr>\n",
       "      <th>3</th>\n",
       "      <td>Account Executive - Washington DC</td>\n",
       "      <td>US</td>\n",
       "      <td>&lt;p&gt;Our passion for improving quality of life t...</td>\n",
       "      <td>&lt;p&gt;&lt;b&gt;THE COMPANY: ESRI – Environmental System...</td>\n",
       "      <td>&lt;ul&gt;\\r\\n&lt;li&gt;\\r\\n&lt;b&gt;EDUCATION: &lt;/b&gt;Bachelor’s o...</td>\n",
       "      <td>&lt;p&gt;Our culture is anything but corporate—we ha...</td>\n",
       "      <td>f</td>\n",
       "      <td>t</td>\n",
       "      <td>f</td>\n",
       "      <td>Full-time</td>\n",
       "      <td>Mid-Senior level</td>\n",
       "      <td>Bachelor's Degree</td>\n",
       "      <td>Computer Software</td>\n",
       "      <td>Sales</td>\n",
       "      <td>f</td>\n",
       "      <td>f</td>\n",
       "    </tr>\n",
       "    <tr>\n",
       "      <th>4</th>\n",
       "      <td>Bill Review Manager</td>\n",
       "      <td>US</td>\n",
       "      <td>&lt;p&gt;SpotSource Solutions LLC is a Global Human ...</td>\n",
       "      <td>&lt;p&gt;&lt;b&gt;JOB TITLE:&lt;/b&gt; Itemization Review Manage...</td>\n",
       "      <td>&lt;p&gt;&lt;b&gt;QUALIFICATIONS:&lt;/b&gt;&lt;/p&gt;\\r\\n&lt;ul&gt;\\r\\n&lt;li&gt;R...</td>\n",
       "      <td>&lt;p&gt;Full Benefits Offered&lt;/p&gt;</td>\n",
       "      <td>f</td>\n",
       "      <td>t</td>\n",
       "      <td>t</td>\n",
       "      <td>Full-time</td>\n",
       "      <td>Mid-Senior level</td>\n",
       "      <td>Bachelor's Degree</td>\n",
       "      <td>Hospital &amp; Health Care</td>\n",
       "      <td>Health Care Provider</td>\n",
       "      <td>f</td>\n",
       "      <td>f</td>\n",
       "    </tr>\n",
       "  </tbody>\n",
       "</table>\n",
       "</div>"
      ],
      "text/plain": [
       "                                       title Location  \\\n",
       "0                           Marketing Intern       US   \n",
       "1  Customer Service - Cloud Video Production       NZ   \n",
       "2    Commissioning Machinery Assistant (CMA)       US   \n",
       "3          Account Executive - Washington DC       US   \n",
       "4                        Bill Review Manager       US   \n",
       "\n",
       "                                     company_profile  \\\n",
       "0  <h3>We're Food52, and we've created a groundbr...   \n",
       "1  <h3>90 Seconds, the worlds Cloud Video Product...   \n",
       "2  <h3></h3>\\r\\n<p>Valor Services provides Workfo...   \n",
       "3  <p>Our passion for improving quality of life t...   \n",
       "4  <p>SpotSource Solutions LLC is a Global Human ...   \n",
       "\n",
       "                                         description  \\\n",
       "0  <p>Food52, a fast-growing, James Beard Award-w...   \n",
       "1  <p>Organised - Focused - Vibrant - Awesome!<br...   \n",
       "2  <p>Our client, located in Houston, is actively...   \n",
       "3  <p><b>THE COMPANY: ESRI – Environmental System...   \n",
       "4  <p><b>JOB TITLE:</b> Itemization Review Manage...   \n",
       "\n",
       "                                        requirements  \\\n",
       "0  <ul>\\r\\n<li>Experience with content management...   \n",
       "1  <p><b>What we expect from you:</b></p>\\r\\n<p>Y...   \n",
       "2  <ul>\\r\\n<li>Implement pre-commissioning and co...   \n",
       "3  <ul>\\r\\n<li>\\r\\n<b>EDUCATION: </b>Bachelor’s o...   \n",
       "4  <p><b>QUALIFICATIONS:</b></p>\\r\\n<ul>\\r\\n<li>R...   \n",
       "\n",
       "                                            benefits telecommuting  \\\n",
       "0                                      Not Specified             f   \n",
       "1  <h3><b>What you will get from us</b></h3>\\r\\n<...             f   \n",
       "2                                      Not Specified             f   \n",
       "3  <p>Our culture is anything but corporate—we ha...             f   \n",
       "4                       <p>Full Benefits Offered</p>             f   \n",
       "\n",
       "  has_company_logo has_questions employment_type required_experience  \\\n",
       "0                t             f           Other          Internship   \n",
       "1                t             f       Full-time      Not Applicable   \n",
       "2                t             f       Full-time    Mid-Senior level   \n",
       "3                t             f       Full-time    Mid-Senior level   \n",
       "4                t             t       Full-time    Mid-Senior level   \n",
       "\n",
       "  required_education                             industry  \\\n",
       "0  Bachelor's Degree  Information Technology and Services   \n",
       "1  Bachelor's Degree            Marketing and Advertising   \n",
       "2  Bachelor's Degree  Information Technology and Services   \n",
       "3  Bachelor's Degree                    Computer Software   \n",
       "4  Bachelor's Degree               Hospital & Health Care   \n",
       "\n",
       "                 function in_balanced_dataset fraudulent  \n",
       "0               Marketing                   f          f  \n",
       "1        Customer Service                   f          f  \n",
       "2  Information Technology                   f          f  \n",
       "3                   Sales                   f          f  \n",
       "4    Health Care Provider                   f          f  "
      ]
     },
     "execution_count": 25,
     "metadata": {},
     "output_type": "execute_result"
    }
   ],
   "source": [
    "df_new=df_new.reindex(columns= cols)\n",
    "df_new.head()"
   ]
  },
  {
   "cell_type": "markdown",
   "metadata": {},
   "source": [
    "## Data Exploration"
   ]
  },
  {
   "cell_type": "markdown",
   "metadata": {},
   "source": [
    "#Firstly we split the data into Fraud and Not Fraud data for better understanding and then do visualization for each variables in both categories to find out any kind of relationship with each variable with our target variable."
   ]
  },
  {
   "cell_type": "code",
   "execution_count": 26,
   "metadata": {},
   "outputs": [],
   "source": [
    "#Separating Fraud and not Fraud add\n",
    "f    = df_new[df_new[\"fraudulent\"] == \"t\"]\n",
    "not_f    = df_new[df_new[\"fraudulent\"] == \"f\"]"
   ]
  },
  {
   "cell_type": "code",
   "execution_count": 27,
   "metadata": {},
   "outputs": [
    {
     "name": "stdout",
     "output_type": "stream",
     "text": [
      "Fraud add 866\n",
      "Not Fraud add 16994\n"
     ]
    }
   ],
   "source": [
    "print ('Fraud add', len(f))\n",
    "print ('Not Fraud add', len(not_f))"
   ]
  },
  {
   "cell_type": "code",
   "execution_count": 28,
   "metadata": {},
   "outputs": [
    {
     "data": {
      "image/png": "[encoded data removed]",
      "text/plain": [
       "<Figure size 432x288 with 1 Axes>"
      ]
     },
     "metadata": {
      "needs_background": "light"
     },
     "output_type": "display_data"
    }
   ],
   "source": [
    "##1. LOCATION\n",
    "## 1.1 lOCATION VARIABLE \n",
    "chart=df_new['Location'].value_counts()[:10].plot(kind='bar')"
   ]
  },
  {
   "cell_type": "code",
   "execution_count": 29,
   "metadata": {},
   "outputs": [
    {
     "data": {
      "image/png": "[encoded data removed]",
      "text/plain": [
       "<Figure size 432x288 with 1 Axes>"
      ]
     },
     "metadata": {
      "needs_background": "light"
     },
     "output_type": "display_data"
    }
   ],
   "source": [
    "## 1.2 lOCATION VARIABLE : Fraud Category\n",
    "chart=f['Location'].value_counts()[:10].plot(kind='bar')"
   ]
  },
  {
   "cell_type": "code",
   "execution_count": 30,
   "metadata": {},
   "outputs": [
    {
     "data": {
      "image/png": "[encoded data removed]",
      "text/plain": [
       "<Figure size 432x288 with 1 Axes>"
      ]
     },
     "metadata": {
      "needs_background": "light"
     },
     "output_type": "display_data"
    }
   ],
   "source": [
    "## 1.3 lOCATION VARIABLE : Not Fraud Category\n",
    "chart=not_f['Location'].value_counts()[:10].plot(kind='bar')"
   ]
  },
  {
   "cell_type": "code",
   "execution_count": 31,
   "metadata": {},
   "outputs": [
    {
     "data": {
      "text/plain": [
       "[Text(0, 0, 'Other'),\n",
       " Text(0, 0, 'Full-time'),\n",
       " Text(0, 0, 'Part-time'),\n",
       " Text(0, 0, 'Contract'),\n",
       " Text(0, 0, 'Temporary')]"
      ]
     },
     "execution_count": 31,
     "metadata": {},
     "output_type": "execute_result"
    },
    {
     "data": {
      "image/png": "[encoded data removed]",
      "text/plain": [
       "<Figure size 432x288 with 1 Axes>"
      ]
     },
     "metadata": {
      "needs_background": "light"
     },
     "output_type": "display_data"
    }
   ],
   "source": [
    "#2. EMPLOYMENT TYPE\n",
    "#2.1\n",
    "chart=sns.countplot(df_new.employment_type)\n",
    "chart.set_xticklabels(chart.get_xticklabels(), rotation=45,horizontalalignment='right')"
   ]
  },
  {
   "cell_type": "code",
   "execution_count": 32,
   "metadata": {},
   "outputs": [
    {
     "data": {
      "text/plain": [
       "[Text(0, 0, 'Full-time'),\n",
       " Text(0, 0, 'Contract'),\n",
       " Text(0, 0, 'Other'),\n",
       " Text(0, 0, 'Part-time'),\n",
       " Text(0, 0, 'Temporary')]"
      ]
     },
     "execution_count": 32,
     "metadata": {},
     "output_type": "execute_result"
    },
    {
     "data": {
      "image/png": "[encoded data removed]",
      "text/plain": [
       "<Figure size 432x288 with 1 Axes>"
      ]
     },
     "metadata": {
      "needs_background": "light"
     },
     "output_type": "display_data"
    }
   ],
   "source": [
    "#2.2 Emplyment Type : Fraud Category\n",
    "chart=sns.countplot(f.employment_type)\n",
    "chart.set_xticklabels(chart.get_xticklabels(), rotation=45,horizontalalignment='right')"
   ]
  },
  {
   "cell_type": "code",
   "execution_count": 33,
   "metadata": {},
   "outputs": [
    {
     "data": {
      "text/plain": [
       "[Text(0, 0, 'Other'),\n",
       " Text(0, 0, 'Full-time'),\n",
       " Text(0, 0, 'Part-time'),\n",
       " Text(0, 0, 'Contract'),\n",
       " Text(0, 0, 'Temporary')]"
      ]
     },
     "execution_count": 33,
     "metadata": {},
     "output_type": "execute_result"
    },
    {
     "data": {
      "image/png": "[encoded data removed]",
      "text/plain": [
       "<Figure size 432x288 with 1 Axes>"
      ]
     },
     "metadata": {
      "needs_background": "light"
     },
     "output_type": "display_data"
    }
   ],
   "source": [
    "#2.3 Emplyment Type :Not Fraud Category\n",
    "chart=sns.countplot(not_f.employment_type)\n",
    "chart.set_xticklabels(chart.get_xticklabels(), rotation=45,horizontalalignment='right')"
   ]
  },
  {
   "cell_type": "code",
   "execution_count": 34,
   "metadata": {},
   "outputs": [
    {
     "data": {
      "text/plain": [
       "[Text(0, 0, 'Internship'),\n",
       " Text(0, 0, 'Not Applicable'),\n",
       " Text(0, 0, 'Mid-Senior level'),\n",
       " Text(0, 0, 'Associate'),\n",
       " Text(0, 0, 'Entry level'),\n",
       " Text(0, 0, 'Executive'),\n",
       " Text(0, 0, 'Director')]"
      ]
     },
     "execution_count": 34,
     "metadata": {},
     "output_type": "execute_result"
    },
    {
     "data": {
      "image/png": "[encoded data removed]",
      "text/plain": [
       "<Figure size 432x288 with 1 Axes>"
      ]
     },
     "metadata": {
      "needs_background": "light"
     },
     "output_type": "display_data"
    }
   ],
   "source": [
    "#3.REQUIRED EXPERIENCE\n",
    "#3.1\n",
    "chart=sns.countplot(df_new.required_experience)\n",
    "chart.set_xticklabels(chart.get_xticklabels(), rotation=45,horizontalalignment='right')"
   ]
  },
  {
   "cell_type": "code",
   "execution_count": 35,
   "metadata": {},
   "outputs": [
    {
     "data": {
      "text/plain": [
       "[Text(0, 0, 'Mid-Senior level'),\n",
       " Text(0, 0, 'Associate'),\n",
       " Text(0, 0, 'Entry level'),\n",
       " Text(0, 0, 'Executive'),\n",
       " Text(0, 0, 'Internship'),\n",
       " Text(0, 0, 'Director'),\n",
       " Text(0, 0, 'Not Applicable')]"
      ]
     },
     "execution_count": 35,
     "metadata": {},
     "output_type": "execute_result"
    },
    {
     "data": {
      "image/png": "[encoded data removed]",
      "text/plain": [
       "<Figure size 432x288 with 1 Axes>"
      ]
     },
     "metadata": {
      "needs_background": "light"
     },
     "output_type": "display_data"
    }
   ],
   "source": [
    "#3.2 REQUIRED EXPERIENCE : Fraud Category\n",
    "chart=sns.countplot(f.required_experience)\n",
    "chart.set_xticklabels(chart.get_xticklabels(), rotation=45,horizontalalignment='right')"
   ]
  },
  {
   "cell_type": "code",
   "execution_count": 36,
   "metadata": {},
   "outputs": [
    {
     "data": {
      "text/plain": [
       "[Text(0, 0, 'Internship'),\n",
       " Text(0, 0, 'Not Applicable'),\n",
       " Text(0, 0, 'Mid-Senior level'),\n",
       " Text(0, 0, 'Associate'),\n",
       " Text(0, 0, 'Entry level'),\n",
       " Text(0, 0, 'Executive'),\n",
       " Text(0, 0, 'Director')]"
      ]
     },
     "execution_count": 36,
     "metadata": {},
     "output_type": "execute_result"
    },
    {
     "data": {
      "image/png": "[encoded data removed]",
      "text/plain": [
       "<Figure size 432x288 with 1 Axes>"
      ]
     },
     "metadata": {
      "needs_background": "light"
     },
     "output_type": "display_data"
    }
   ],
   "source": [
    "# 3.3 REQUIRED EXPERIENCE : Not Fraud Category\n",
    "chart=sns.countplot(not_f.required_experience)\n",
    "chart.set_xticklabels(chart.get_xticklabels(), rotation=45,horizontalalignment='right')"
   ]
  },
  {
   "cell_type": "code",
   "execution_count": 37,
   "metadata": {},
   "outputs": [
    {
     "data": {
      "text/plain": [
       "[Text(0, 0, \"Bachelor's Degree\"),\n",
       " Text(0, 0, \"Master's Degree\"),\n",
       " Text(0, 0, 'High School or equivalent'),\n",
       " Text(0, 0, 'Unspecified'),\n",
       " Text(0, 0, 'Some College Coursework Completed'),\n",
       " Text(0, 0, 'Vocational'),\n",
       " Text(0, 0, 'Certification'),\n",
       " Text(0, 0, 'Associate Degree'),\n",
       " Text(0, 0, 'Professional'),\n",
       " Text(0, 0, 'Doctorate'),\n",
       " Text(0, 0, 'Some High School Coursework'),\n",
       " Text(0, 0, 'Vocational - Degree'),\n",
       " Text(0, 0, 'Vocational - HS Diploma')]"
      ]
     },
     "execution_count": 37,
     "metadata": {},
     "output_type": "execute_result"
    },
    {
     "data": {
      "image/png": "[encoded data removed]",
      "text/plain": [
       "<Figure size 432x288 with 1 Axes>"
      ]
     },
     "metadata": {
      "needs_background": "light"
     },
     "output_type": "display_data"
    }
   ],
   "source": [
    "# 4.REQUIRED EDUCATION\n",
    "# 4.1\n",
    "chart=sns.countplot(df_new.required_education)\n",
    "chart.set_xticklabels(chart.get_xticklabels(), rotation=45,horizontalalignment='right')"
   ]
  },
  {
   "cell_type": "code",
   "execution_count": 38,
   "metadata": {},
   "outputs": [
    {
     "data": {
      "text/plain": [
       "[Text(0, 0, 'High School or equivalent'),\n",
       " Text(0, 0, \"Bachelor's Degree\"),\n",
       " Text(0, 0, 'Certification'),\n",
       " Text(0, 0, 'Unspecified'),\n",
       " Text(0, 0, \"Master's Degree\"),\n",
       " Text(0, 0, 'Professional'),\n",
       " Text(0, 0, 'Associate Degree'),\n",
       " Text(0, 0, 'Some College Coursework Completed'),\n",
       " Text(0, 0, 'Some High School Coursework'),\n",
       " Text(0, 0, 'Doctorate')]"
      ]
     },
     "execution_count": 38,
     "metadata": {},
     "output_type": "execute_result"
    },
    {
     "data": {
      "image/png": "[encoded data removed]",
      "text/plain": [
       "<Figure size 432x288 with 1 Axes>"
      ]
     },
     "metadata": {
      "needs_background": "light"
     },
     "output_type": "display_data"
    }
   ],
   "source": [
    "# 4.2 REQUIRED EDUCATION : Fraud Category\n",
    "chart=sns.countplot(f.required_education)\n",
    "chart.set_xticklabels(chart.get_xticklabels(), rotation=45,horizontalalignment='right')"
   ]
  },
  {
   "cell_type": "code",
   "execution_count": 39,
   "metadata": {},
   "outputs": [
    {
     "data": {
      "text/plain": [
       "[Text(0, 0, \"Bachelor's Degree\"),\n",
       " Text(0, 0, \"Master's Degree\"),\n",
       " Text(0, 0, 'High School or equivalent'),\n",
       " Text(0, 0, 'Unspecified'),\n",
       " Text(0, 0, 'Some College Coursework Completed'),\n",
       " Text(0, 0, 'Vocational'),\n",
       " Text(0, 0, 'Certification'),\n",
       " Text(0, 0, 'Associate Degree'),\n",
       " Text(0, 0, 'Professional'),\n",
       " Text(0, 0, 'Doctorate'),\n",
       " Text(0, 0, 'Some High School Coursework'),\n",
       " Text(0, 0, 'Vocational - Degree'),\n",
       " Text(0, 0, 'Vocational - HS Diploma')]"
      ]
     },
     "execution_count": 39,
     "metadata": {},
     "output_type": "execute_result"
    },
    {
     "data": {
      "image/png": "[encoded data removed]",
      "text/plain": [
       "<Figure size 432x288 with 1 Axes>"
      ]
     },
     "metadata": {
      "needs_background": "light"
     },
     "output_type": "display_data"
    }
   ],
   "source": [
    "# 4.3 REQUIRED EDUCATION : Not Fraud Category\n",
    "chart=sns.countplot(not_f.required_education)\n",
    "chart.set_xticklabels(chart.get_xticklabels(), rotation=45,horizontalalignment='right')"
   ]
  },
  {
   "cell_type": "code",
   "execution_count": 40,
   "metadata": {},
   "outputs": [
    {
     "data": {
      "text/plain": [
       "<matplotlib.axes._subplots.AxesSubplot at 0x2a9809b10f0>"
      ]
     },
     "execution_count": 40,
     "metadata": {},
     "output_type": "execute_result"
    },
    {
     "data": {
      "image/png": "[encoded data removed]",
      "text/plain": [
       "<Figure size 432x288 with 1 Axes>"
      ]
     },
     "metadata": {
      "needs_background": "light"
     },
     "output_type": "display_data"
    }
   ],
   "source": [
    "#5. INDUSTRY\n",
    "df_new['industry'].value_counts()[:20].plot(kind='bar')"
   ]
  },
  {
   "cell_type": "code",
   "execution_count": 41,
   "metadata": {},
   "outputs": [
    {
     "data": {
      "text/plain": [
       "<matplotlib.axes._subplots.AxesSubplot at 0x2a980a66be0>"
      ]
     },
     "execution_count": 41,
     "metadata": {},
     "output_type": "execute_result"
    },
    {
     "data": {
      "image/png": "[encoded data removed]",
      "text/plain": [
       "<Figure size 432x288 with 1 Axes>"
      ]
     },
     "metadata": {
      "needs_background": "light"
     },
     "output_type": "display_data"
    }
   ],
   "source": [
    "f['industry'].value_counts()[:20].plot(kind='bar')"
   ]
  },
  {
   "cell_type": "code",
   "execution_count": 42,
   "metadata": {},
   "outputs": [
    {
     "data": {
      "text/plain": [
       "<matplotlib.axes._subplots.AxesSubplot at 0x2a980b1b6a0>"
      ]
     },
     "execution_count": 42,
     "metadata": {},
     "output_type": "execute_result"
    },
    {
     "data": {
      "image/png": "[encoded data removed]",
      "text/plain": [
       "<Figure size 432x288 with 1 Axes>"
      ]
     },
     "metadata": {
      "needs_background": "light"
     },
     "output_type": "display_data"
    }
   ],
   "source": [
    "not_f['industry'].value_counts()[:20].plot(kind='bar')"
   ]
  },
  {
   "cell_type": "code",
   "execution_count": 43,
   "metadata": {},
   "outputs": [
    {
     "data": {
      "text/plain": [
       "<matplotlib.axes._subplots.AxesSubplot at 0x2a98063a278>"
      ]
     },
     "execution_count": 43,
     "metadata": {},
     "output_type": "execute_result"
    },
    {
     "data": {
      "image/png": "[encoded data removed]",
      "text/plain": [
       "<Figure size 432x288 with 1 Axes>"
      ]
     },
     "metadata": {
      "needs_background": "light"
     },
     "output_type": "display_data"
    }
   ],
   "source": [
    "#FUNCTION\n",
    "df_new['function'].value_counts()[:20].plot(kind='bar')"
   ]
  },
  {
   "cell_type": "code",
   "execution_count": 44,
   "metadata": {},
   "outputs": [
    {
     "data": {
      "text/plain": [
       "<matplotlib.axes._subplots.AxesSubplot at 0x2a985f71550>"
      ]
     },
     "execution_count": 44,
     "metadata": {},
     "output_type": "execute_result"
    },
    {
     "data": {
      "image/png": "[encoded data removed]",
      "text/plain": [
       "<Figure size 432x288 with 1 Axes>"
      ]
     },
     "metadata": {
      "needs_background": "light"
     },
     "output_type": "display_data"
    }
   ],
   "source": [
    "f['function'].value_counts()[:20].plot(kind='bar')"
   ]
  },
  {
   "cell_type": "code",
   "execution_count": 45,
   "metadata": {},
   "outputs": [
    {
     "data": {
      "text/plain": [
       "<matplotlib.axes._subplots.AxesSubplot at 0x2a986084e48>"
      ]
     },
     "execution_count": 45,
     "metadata": {},
     "output_type": "execute_result"
    },
    {
     "data": {
      "image/png": "[encoded data removed]",
      "text/plain": [
       "<Figure size 432x288 with 1 Axes>"
      ]
     },
     "metadata": {
      "needs_background": "light"
     },
     "output_type": "display_data"
    }
   ],
   "source": [
    "not_f['function'].value_counts()[:20].plot(kind='bar')"
   ]
  },
  {
   "cell_type": "code",
   "execution_count": 46,
   "metadata": {},
   "outputs": [
    {
     "data": {
      "text/plain": [
       "<matplotlib.axes._subplots.AxesSubplot at 0x2a9800219e8>"
      ]
     },
     "execution_count": 46,
     "metadata": {},
     "output_type": "execute_result"
    },
    {
     "data": {
      "image/png": "[encoded data removed]",
      "text/plain": [
       "<Figure size 432x288 with 1 Axes>"
      ]
     },
     "metadata": {
      "needs_background": "light"
     },
     "output_type": "display_data"
    }
   ],
   "source": [
    "sns.countplot(df_new.in_balanced_dataset)"
   ]
  },
  {
   "cell_type": "code",
   "execution_count": 47,
   "metadata": {},
   "outputs": [
    {
     "data": {
      "text/plain": [
       "<matplotlib.axes._subplots.AxesSubplot at 0x2a986196f28>"
      ]
     },
     "execution_count": 47,
     "metadata": {},
     "output_type": "execute_result"
    },
    {
     "data": {
      "image/png": "[encoded data removed]",
      "text/plain": [
       "<Figure size 432x288 with 1 Axes>"
      ]
     },
     "metadata": {
      "needs_background": "light"
     },
     "output_type": "display_data"
    }
   ],
   "source": [
    "sns.countplot(f.in_balanced_dataset)"
   ]
  },
  {
   "cell_type": "code",
   "execution_count": 48,
   "metadata": {},
   "outputs": [
    {
     "data": {
      "text/plain": [
       "<matplotlib.axes._subplots.AxesSubplot at 0x2a9861ea860>"
      ]
     },
     "execution_count": 48,
     "metadata": {},
     "output_type": "execute_result"
    },
    {
     "data": {
      "image/png": "[encoded data removed]",
      "text/plain": [
       "<Figure size 432x288 with 1 Axes>"
      ]
     },
     "metadata": {
      "needs_background": "light"
     },
     "output_type": "display_data"
    }
   ],
   "source": [
    "sns.countplot(not_f.in_balanced_dataset)"
   ]
  },
  {
   "cell_type": "code",
   "execution_count": 49,
   "metadata": {},
   "outputs": [
    {
     "data": {
      "text/plain": [
       "<matplotlib.axes._subplots.AxesSubplot at 0x2a986222630>"
      ]
     },
     "execution_count": 49,
     "metadata": {},
     "output_type": "execute_result"
    },
    {
     "data": {
      "image/png": "[encoded data removed]",
      "text/plain": [
       "<Figure size 432x288 with 1 Axes>"
      ]
     },
     "metadata": {
      "needs_background": "light"
     },
     "output_type": "display_data"
    }
   ],
   "source": [
    "sns.countplot(df_new.telecommuting)"
   ]
  },
  {
   "cell_type": "code",
   "execution_count": 50,
   "metadata": {},
   "outputs": [
    {
     "data": {
      "text/plain": [
       "<matplotlib.axes._subplots.AxesSubplot at 0x2a9861ea518>"
      ]
     },
     "execution_count": 50,
     "metadata": {},
     "output_type": "execute_result"
    },
    {
     "data": {
      "image/png": "[encoded data removed]",
      "text/plain": [
       "<Figure size 432x288 with 1 Axes>"
      ]
     },
     "metadata": {
      "needs_background": "light"
     },
     "output_type": "display_data"
    }
   ],
   "source": [
    "sns.countplot(f.telecommuting)"
   ]
  },
  {
   "cell_type": "code",
   "execution_count": 51,
   "metadata": {},
   "outputs": [
    {
     "data": {
      "text/plain": [
       "<matplotlib.axes._subplots.AxesSubplot at 0x2a9862d8b00>"
      ]
     },
     "execution_count": 51,
     "metadata": {},
     "output_type": "execute_result"
    },
    {
     "data": {
      "image/png": "[encoded data removed]",
      "text/plain": [
       "<Figure size 432x288 with 1 Axes>"
      ]
     },
     "metadata": {
      "needs_background": "light"
     },
     "output_type": "display_data"
    }
   ],
   "source": [
    "sns.countplot(not_f.telecommuting)"
   ]
  },
  {
   "cell_type": "code",
   "execution_count": 52,
   "metadata": {},
   "outputs": [
    {
     "data": {
      "text/plain": [
       "<matplotlib.axes._subplots.AxesSubplot at 0x2a986293da0>"
      ]
     },
     "execution_count": 52,
     "metadata": {},
     "output_type": "execute_result"
    },
    {
     "data": {
      "image/png": "[encoded data removed]",
      "text/plain": [
       "<Figure size 432x288 with 1 Axes>"
      ]
     },
     "metadata": {
      "needs_background": "light"
     },
     "output_type": "display_data"
    }
   ],
   "source": [
    "sns.countplot(df_new.has_company_logo)"
   ]
  },
  {
   "cell_type": "code",
   "execution_count": 53,
   "metadata": {},
   "outputs": [
    {
     "data": {
      "text/plain": [
       "<matplotlib.axes._subplots.AxesSubplot at 0x2a986389b38>"
      ]
     },
     "execution_count": 53,
     "metadata": {},
     "output_type": "execute_result"
    },
    {
     "data": {
      "image/png": "[encoded data removed]",
      "text/plain": [
       "<Figure size 432x288 with 1 Axes>"
      ]
     },
     "metadata": {
      "needs_background": "light"
     },
     "output_type": "display_data"
    }
   ],
   "source": [
    "sns.countplot(f.has_company_logo)"
   ]
  },
  {
   "cell_type": "code",
   "execution_count": 54,
   "metadata": {},
   "outputs": [
    {
     "data": {
      "text/plain": [
       "<matplotlib.axes._subplots.AxesSubplot at 0x2a9863c29b0>"
      ]
     },
     "execution_count": 54,
     "metadata": {},
     "output_type": "execute_result"
    },
    {
     "data": {
      "image/png": "[encoded data removed]",
      "text/plain": [
       "<Figure size 432x288 with 1 Axes>"
      ]
     },
     "metadata": {
      "needs_background": "light"
     },
     "output_type": "display_data"
    }
   ],
   "source": [
    "sns.countplot(not_f.has_company_logo)"
   ]
  },
  {
   "cell_type": "code",
   "execution_count": 55,
   "metadata": {},
   "outputs": [
    {
     "data": {
      "text/plain": [
       "<matplotlib.axes._subplots.AxesSubplot at 0x2a98642aba8>"
      ]
     },
     "execution_count": 55,
     "metadata": {},
     "output_type": "execute_result"
    },
    {
     "data": {
      "image/png": "[encoded data removed]",
      "text/plain": [
       "<Figure size 432x288 with 1 Axes>"
      ]
     },
     "metadata": {
      "needs_background": "light"
     },
     "output_type": "display_data"
    }
   ],
   "source": [
    "sns.countplot(df_new.has_questions)"
   ]
  },
  {
   "cell_type": "code",
   "execution_count": 56,
   "metadata": {},
   "outputs": [
    {
     "data": {
      "text/plain": [
       "<matplotlib.axes._subplots.AxesSubplot at 0x2a986485d68>"
      ]
     },
     "execution_count": 56,
     "metadata": {},
     "output_type": "execute_result"
    },
    {
     "data": {
      "image/png": "[encoded data removed]",
      "text/plain": [
       "<Figure size 432x288 with 1 Axes>"
      ]
     },
     "metadata": {
      "needs_background": "light"
     },
     "output_type": "display_data"
    }
   ],
   "source": [
    "sns.countplot(f.has_questions)"
   ]
  },
  {
   "cell_type": "code",
   "execution_count": 57,
   "metadata": {},
   "outputs": [
    {
     "data": {
      "text/plain": [
       "<matplotlib.axes._subplots.AxesSubplot at 0x2a9864d6be0>"
      ]
     },
     "execution_count": 57,
     "metadata": {},
     "output_type": "execute_result"
    },
    {
     "data": {
      "image/png": "[encoded data removed]",
      "text/plain": [
       "<Figure size 432x288 with 1 Axes>"
      ]
     },
     "metadata": {
      "needs_background": "light"
     },
     "output_type": "display_data"
    }
   ],
   "source": [
    "sns.countplot(not_f.has_questions)"
   ]
  },
  {
   "cell_type": "markdown",
   "metadata": {},
   "source": [
    "## Splitting data based on the column types \n",
    "1. Droping all text type columns."
   ]
  },
  {
   "cell_type": "code",
   "execution_count": 58,
   "metadata": {},
   "outputs": [],
   "source": [
    "df_new1= df_new.drop(['company_profile', 'description','requirements','benefits'], axis = 1)"
   ]
  },
  {
   "cell_type": "code",
   "execution_count": 59,
   "metadata": {},
   "outputs": [
    {
     "data": {
      "text/plain": [
       "(17860, 12)"
      ]
     },
     "execution_count": 59,
     "metadata": {},
     "output_type": "execute_result"
    }
   ],
   "source": [
    "df_new1.shape"
   ]
  },
  {
   "cell_type": "code",
   "execution_count": 60,
   "metadata": {},
   "outputs": [
    {
     "data": {
      "text/html": [
       "<div>\n",
       "<style scoped>\n",
       "    .dataframe tbody tr th:only-of-type {\n",
       "        vertical-align: middle;\n",
       "    }\n",
       "\n",
       "    .dataframe tbody tr th {\n",
       "        vertical-align: top;\n",
       "    }\n",
       "\n",
       "    .dataframe thead th {\n",
       "        text-align: right;\n",
       "    }\n",
       "</style>\n",
       "<table border=\"1\" class=\"dataframe\">\n",
       "  <thead>\n",
       "    <tr style=\"text-align: right;\">\n",
       "      <th></th>\n",
       "      <th>title</th>\n",
       "      <th>Location</th>\n",
       "      <th>telecommuting</th>\n",
       "      <th>has_company_logo</th>\n",
       "      <th>has_questions</th>\n",
       "      <th>employment_type</th>\n",
       "      <th>required_experience</th>\n",
       "      <th>required_education</th>\n",
       "      <th>industry</th>\n",
       "      <th>function</th>\n",
       "      <th>in_balanced_dataset</th>\n",
       "      <th>fraudulent</th>\n",
       "    </tr>\n",
       "  </thead>\n",
       "  <tbody>\n",
       "    <tr>\n",
       "      <th>0</th>\n",
       "      <td>Marketing Intern</td>\n",
       "      <td>US</td>\n",
       "      <td>f</td>\n",
       "      <td>t</td>\n",
       "      <td>f</td>\n",
       "      <td>Other</td>\n",
       "      <td>Internship</td>\n",
       "      <td>Bachelor's Degree</td>\n",
       "      <td>Information Technology and Services</td>\n",
       "      <td>Marketing</td>\n",
       "      <td>f</td>\n",
       "      <td>f</td>\n",
       "    </tr>\n",
       "    <tr>\n",
       "      <th>1</th>\n",
       "      <td>Customer Service - Cloud Video Production</td>\n",
       "      <td>NZ</td>\n",
       "      <td>f</td>\n",
       "      <td>t</td>\n",
       "      <td>f</td>\n",
       "      <td>Full-time</td>\n",
       "      <td>Not Applicable</td>\n",
       "      <td>Bachelor's Degree</td>\n",
       "      <td>Marketing and Advertising</td>\n",
       "      <td>Customer Service</td>\n",
       "      <td>f</td>\n",
       "      <td>f</td>\n",
       "    </tr>\n",
       "    <tr>\n",
       "      <th>2</th>\n",
       "      <td>Commissioning Machinery Assistant (CMA)</td>\n",
       "      <td>US</td>\n",
       "      <td>f</td>\n",
       "      <td>t</td>\n",
       "      <td>f</td>\n",
       "      <td>Full-time</td>\n",
       "      <td>Mid-Senior level</td>\n",
       "      <td>Bachelor's Degree</td>\n",
       "      <td>Information Technology and Services</td>\n",
       "      <td>Information Technology</td>\n",
       "      <td>f</td>\n",
       "      <td>f</td>\n",
       "    </tr>\n",
       "    <tr>\n",
       "      <th>3</th>\n",
       "      <td>Account Executive - Washington DC</td>\n",
       "      <td>US</td>\n",
       "      <td>f</td>\n",
       "      <td>t</td>\n",
       "      <td>f</td>\n",
       "      <td>Full-time</td>\n",
       "      <td>Mid-Senior level</td>\n",
       "      <td>Bachelor's Degree</td>\n",
       "      <td>Computer Software</td>\n",
       "      <td>Sales</td>\n",
       "      <td>f</td>\n",
       "      <td>f</td>\n",
       "    </tr>\n",
       "    <tr>\n",
       "      <th>4</th>\n",
       "      <td>Bill Review Manager</td>\n",
       "      <td>US</td>\n",
       "      <td>f</td>\n",
       "      <td>t</td>\n",
       "      <td>t</td>\n",
       "      <td>Full-time</td>\n",
       "      <td>Mid-Senior level</td>\n",
       "      <td>Bachelor's Degree</td>\n",
       "      <td>Hospital &amp; Health Care</td>\n",
       "      <td>Health Care Provider</td>\n",
       "      <td>f</td>\n",
       "      <td>f</td>\n",
       "    </tr>\n",
       "  </tbody>\n",
       "</table>\n",
       "</div>"
      ],
      "text/plain": [
       "                                       title Location telecommuting  \\\n",
       "0                           Marketing Intern       US             f   \n",
       "1  Customer Service - Cloud Video Production       NZ             f   \n",
       "2    Commissioning Machinery Assistant (CMA)       US             f   \n",
       "3          Account Executive - Washington DC       US             f   \n",
       "4                        Bill Review Manager       US             f   \n",
       "\n",
       "  has_company_logo has_questions employment_type required_experience  \\\n",
       "0                t             f           Other          Internship   \n",
       "1                t             f       Full-time      Not Applicable   \n",
       "2                t             f       Full-time    Mid-Senior level   \n",
       "3                t             f       Full-time    Mid-Senior level   \n",
       "4                t             t       Full-time    Mid-Senior level   \n",
       "\n",
       "  required_education                             industry  \\\n",
       "0  Bachelor's Degree  Information Technology and Services   \n",
       "1  Bachelor's Degree            Marketing and Advertising   \n",
       "2  Bachelor's Degree  Information Technology and Services   \n",
       "3  Bachelor's Degree                    Computer Software   \n",
       "4  Bachelor's Degree               Hospital & Health Care   \n",
       "\n",
       "                 function in_balanced_dataset fraudulent  \n",
       "0               Marketing                   f          f  \n",
       "1        Customer Service                   f          f  \n",
       "2  Information Technology                   f          f  \n",
       "3                   Sales                   f          f  \n",
       "4    Health Care Provider                   f          f  "
      ]
     },
     "execution_count": 60,
     "metadata": {},
     "output_type": "execute_result"
    }
   ],
   "source": [
    "df_new1.head()"
   ]
  },
  {
   "cell_type": "markdown",
   "metadata": {},
   "source": [
    "#Encoding all the fields values inorder to convert all the values to numerical values for easy processing"
   ]
  },
  {
   "cell_type": "code",
   "execution_count": 61,
   "metadata": {
    "scrolled": true
   },
   "outputs": [
    {
     "data": {
      "text/plain": [
       "English Teacher Abroad                                                               311\n",
       "Customer Service Associate                                                           146\n",
       "Graduates: English Teacher Abroad (Conversational)                                   144\n",
       "English Teacher Abroad                                                                95\n",
       "Software Engineer                                                                     86\n",
       "English Teacher Abroad (Conversational)                                               83\n",
       "Customer Service Associate - Part Time                                                76\n",
       "Account Manager                                                                       75\n",
       "Web Developer                                                                         66\n",
       "Project Manager                                                                       62\n",
       "Beauty & Fragrance consultants needed                                                 60\n",
       "Graduates: English Teacher Abroad                                                     57\n",
       "Customer Service Representative                                                       51\n",
       "Administrative Assistant                                                              48\n",
       "Product Manager                                                                       47\n",
       "Office Manager                                                                        46\n",
       "Customer Service Associate                                                            45\n",
       "Marketing Manager                                                                     45\n",
       "Sales Representative                                                                  45\n",
       "Senior Software Engineer                                                              44\n",
       "Web Designer                                                                          44\n",
       "iOS Developer                                                                         44\n",
       "Account Executive                                                                     41\n",
       "Customer Service Team Lead                                                            40\n",
       "Front End Developer                                                                   38\n",
       "Sales Manager                                                                         37\n",
       "Software Developer                                                                    36\n",
       "Android Developer                                                                     33\n",
       "Contact Center Representatives                                                        31\n",
       "Data Scientist                                                                        31\n",
       "                                                                                    ... \n",
       "General Secretary                                                                      1\n",
       "Landscaping & Light Construction Technician                                            1\n",
       "Pipe Tacker                                                                            1\n",
       "AngularJS Developer                                                                    1\n",
       "Administrator                                                                          1\n",
       "Cleaner Recruitment Analyst/Associate                                                  1\n",
       "Art Development Manager                                                                1\n",
       "Affiliates/Partnerships Manager                                                        1\n",
       "Graduate Client Engineer                                                               1\n",
       "Sr. Product Marketing Strategist                                                       1\n",
       "Organizing Director, SF Bay Area                                                       1\n",
       "Sr. Software Engineer for Javascript/Java/Android                                      1\n",
       "Jr. PHP Developer                                                                      1\n",
       "Team Leaders                                                                           1\n",
       "Elearning developer/Instructional Designer                                             1\n",
       "Sales & Support role in tech firm                                                      1\n",
       "New Product Development Designer/Drafter                                               1\n",
       "UW Internships 2014-15                                                                 1\n",
       "Doncaster Apprentice Admin Assistant Under NAS 16-18 Year Olds Only                    1\n",
       "iOS Software Architect                                                                 1\n",
       "Administrative/Front Desk                                                              1\n",
       "S8 7RB Customer Service Apprenticeship available under NAS 16-18 year olds only!!      1\n",
       "International Broadcaster, Macedonian Language                                         1\n",
       "Operations Manager, Mexico City                                                        1\n",
       "Freelance writer/analyst for Brazil/LatAm                                              1\n",
       "Junior Specialist - Seed Production and Harvest                                        1\n",
       "RN OR Circulator                                                                       1\n",
       "Senior Salesperson/Store Manager                                                       1\n",
       "SEO Executive                                                                          1\n",
       "Senior Organizational Change Management Lead                                           1\n",
       "Name: title, Length: 11219, dtype: int64"
      ]
     },
     "execution_count": 61,
     "metadata": {},
     "output_type": "execute_result"
    }
   ],
   "source": [
    "df_new1['title'].value_counts()"
   ]
  },
  {
   "cell_type": "code",
   "execution_count": 62,
   "metadata": {},
   "outputs": [
    {
     "data": {
      "text/plain": [
       "{0: '   Electrician ',\n",
       " 1: '   Environmental Technician I',\n",
       " 2: '   Piping Material Engineer',\n",
       " 3: '  Discipline Manager Civil, Structural, Marine, Architectural',\n",
       " 4: '  FEA Senior engineer',\n",
       " 5: '  Manager of Project Management Organization - Engineering',\n",
       " 6: '  Mechanical Engineering Manager',\n",
       " 7: '  Resources Change Management, Process Excellence and Change Enablement Manager',\n",
       " 8: '  ServiceNow Consultant ',\n",
       " 9: ' AUTOCAD OPERATOR',\n",
       " 10: ' Account Executive/Digital Ad Sales',\n",
       " 11: ' Accounting Clerk ',\n",
       " 12: ' Accounting/Bookkeeping',\n",
       " 13: ' Agile Business Analyst',\n",
       " 14: ' Analyst Programmer (BOXI, Oracle)',\n",
       " 15: ' Android Developer',\n",
       " 16: ' BI Developer',\n",
       " 17: ' BI Technology Intern ',\n",
       " 18: ' BS37 5NZ DGV Apprenticeship available under NAS 18 year olds only!',\n",
       " 19: ' BUSINESS DEVELOPMENT ASSOCIATE - AMSTERDAM, NL',\n",
       " 20: ' Business Analyst (Permanent-Manager level)',\n",
       " 21: ' CAD Operator',\n",
       " 22: ' CARER/SENIOR CARER POSITIONS',\n",
       " 23: ' CNC Programmer',\n",
       " 24: ' Co-Superstar (Asst. Store Manager) - St. Louis Galleria',\n",
       " 25: ' College Marketing Rep (SEATTLE)',\n",
       " 26: ' Content Director ',\n",
       " 27: ' Creative Director for PF Vintage',\n",
       " 28: ' Croydon Customer Service Apprenticeships Under NAS 16-24 Year Olds Only',\n",
       " 29: ' Customer Analytics Specialist',\n",
       " 30: ' Customer Care Representative I ',\n",
       " 31: ' Customer Relations - PT - No Call Center',\n",
       " 32: ' Customer Service Positions',\n",
       " 33: ' Customer Service Representative',\n",
       " 34: ' Customer Service Reps Needed For Expansion',\n",
       " 35: ' Data Entry Representative',\n",
       " 36: ' Database Development Lead',\n",
       " 37: ' Digital Ad Sales Account Executive',\n",
       " 38: ' Digital Brand Architects Community Manager  ',\n",
       " 39: ' Downtown Valet Attendant',\n",
       " 40: ' Drilling Engineer - Exploration',\n",
       " 41: ' Entry Level Corporate Sales Executive',\n",
       " 42: ' Executive Assistant / Office Manager',\n",
       " 43: ' Family Advocate',\n",
       " 44: ' Friendly Customer Service Employees',\n",
       " 45: ' Front-End Developer/HTML/JavaScript/CSS',\n",
       " 46: ' Head of Loyalty',\n",
       " 47: ' Highly Energetic Health Enthusiasts',\n",
       " 48: ' Hiring for Business Intelligence and Analytics Project Manager',\n",
       " 49: ' INSTALLERS NEEDED',\n",
       " 50: ' JOB VACANCIES AT MONTCALM LUXURY HOTEL LONDON.',\n",
       " 51: ' Java / J2ee Developers ',\n",
       " 52: ' Jr. Account Executive',\n",
       " 53: ' Jr. Business Analyst & Quality Analyst (entry level)',\n",
       " 54: ' Junior SEO Manager (m/f) - Rocket Internet ',\n",
       " 55: ' Licensed Level Therapist ',\n",
       " 56: ' MAIL CLERK',\n",
       " 57: ' Managing Director',\n",
       " 58: ' Manual Labor (Mixing Shampoo) Jobs Available! No exp. necessary',\n",
       " 59: ' Marketing Guru ',\n",
       " 60: ' Marketing Representative Positions',\n",
       " 61: ' Marketing Specialist ',\n",
       " 62: ' Marketing and Communications Manager',\n",
       " 63: ' Marketing and Sales Representative- Full Time Position ',\n",
       " 64: ' Mask Design Engineer ',\n",
       " 65: ' Medical Intake Representative (Data Entry)',\n",
       " 66: ' Onshore Scaffolding Coordinator',\n",
       " 67: ' PHP Back-end Developer',\n",
       " 68: ' Payroll Data Entry Clerk Position - Earn $100-$200 Daily ',\n",
       " 69: ' PeopleSoft HR Functional Lead',\n",
       " 70: ' Physician Advisor',\n",
       " 71: ' Policy Analyst ',\n",
       " 72: ' Production Technician   1781',\n",
       " 73: ' Promotions / Marketing Assistant',\n",
       " 74: ' QA Inspector / Manager',\n",
       " 75: ' RNs Needed ASAP - ER & ICU - APPLY NOW!! ',\n",
       " 76: ' Real Estate Agents',\n",
       " 77: ' Retail Assistant Everyman stationery Store ',\n",
       " 78: ' SENIOR CORPORATE RECCRUITER',\n",
       " 79: ' Sales Advisor - Beauty',\n",
       " 80: ' Sales Consultant',\n",
       " 81: ' Sales Lead Generator',\n",
       " 82: ' Sales and Customer Service Roles - No Experience Required',\n",
       " 83: ' Sales and Marketing team expanding. Hiring immediately',\n",
       " 84: ' Senior Big Data Consultant ',\n",
       " 85: ' Senior IT Security Analyst - Threat Management',\n",
       " 86: ' Senior IT Security Lead (SIEM / IDS)',\n",
       " 87: ' Senior Metamaterials Designer',\n",
       " 88: ' Senior PHP Developer',\n",
       " 89: ' Skilled Safe Installer & Mover',\n",
       " 90: ' Software Engineer - Intern',\n",
       " 91: ' SoftwareTest Analyst with Selenium',\n",
       " 92: ' Sr Java-Cloud Developer',\n",
       " 93: ' Sr. Process Engineer',\n",
       " 94: ' Sr. Staff Product Applications Engineer',\n",
       " 95: ' Star (Retail Associate) - Oakbrook Center 02',\n",
       " 96: ' Teacher - Full Year',\n",
       " 97: ' Technical Lead - Java Scripts, HTML5,CSS',\n",
       " 98: ' Technical Support Specialist',\n",
       " 99: ' Translation Project Manager',\n",
       " 100: ' Unity/C# Engineer',\n",
       " 101: ' Warehousing Apprenticeship Under NAS 16-18 Year Olds Only',\n",
       " 102: ' Web - Facebook developers',\n",
       " 103: ' iSeries Team Lead',\n",
       " 104: '$950/Week Truck Drivers Needed',\n",
       " 105: '$950/week. Truck Drivers Needed',\n",
       " 106: '(Assistant) Accountant',\n",
       " 107: '(Internship) Communication / E-Marketing Assistant',\n",
       " 108: '(Internship) PR / Event Manager Assistant',\n",
       " 109: '(Javascript) Web Application Developer ',\n",
       " 110: '(Senior) Developer Cloud Product (m/w)',\n",
       " 111: '(Senior) Structural Engineer',\n",
       " 112: '(Willing to train) Life Insurance Agent',\n",
       " 113: '(Work from Home) $20/hr',\n",
       " 114: '****SALARY/COMMISSION for AGENT/ADMIN!! - ',\n",
       " 115: '***NEEDED 15-20 CUSTOMER SERVICE REPS',\n",
       " 116: '***NEEDED 15-20 CUSTOMER SERVICE REPS ',\n",
       " 117: '*Line Chef/Grill Chef*',\n",
       " 118: '. Net Developers',\n",
       " 119: '.NET + PHP DEVELOPER EXCELLENT ENGLISH FROM LATIN AMERICA NEEDED',\n",
       " 120: '.NET Architect',\n",
       " 121: '.NET Backend udvikler / Virksomhed: GN Netcom',\n",
       " 122: '.NET DEVELOPER',\n",
       " 123: '.NET Developer',\n",
       " 124: '.NET Developer ',\n",
       " 125: '.NET Developer (Visual Studio, Sybase, SQL)',\n",
       " 126: '.NET Developer - NexLP',\n",
       " 127: '.NET Developer, Hong Kong',\n",
       " 128: '.NET Developers Wanted',\n",
       " 129: '.NET Integration Engineer',\n",
       " 130: '.NET Lead',\n",
       " 131: '.NET Software Engineer',\n",
       " 132: '.NET Software Engineers',\n",
       " 133: '.NET UI Developer',\n",
       " 134: '.NET Web Developer',\n",
       " 135: '.NET Web Developers - VB, C#, ASP.NET - Little Rock, AR',\n",
       " 136: '.NET developer',\n",
       " 137: '.NET developer (C#, Asp.Net, IIS7)',\n",
       " 138: '.NET/C# Developer',\n",
       " 139: '.NET/SITECORE WEB DEVELOPER',\n",
       " 140: '.Net & Cross Platform Developer ( Jr. & Sr. )',\n",
       " 141: '.Net / SharePoint Developer',\n",
       " 142: '.Net Developer',\n",
       " 143: '.Net Developer ( Classic ASP )',\n",
       " 144: '.Net Developer - C# SQL SOA SSIS - Albany, NY',\n",
       " 145: '.Net Developer - New Product to Market',\n",
       " 146: '.Net Developer GURU (and coffee drinking extraordinaire)',\n",
       " 147: '.Net Extraordinaire',\n",
       " 148: '.Net Production Support',\n",
       " 149: '.Net Software Developer - Integration',\n",
       " 150: '.Net Support Engineer ',\n",
       " 151: '.Net Web Developer',\n",
       " 152: '.Net developer',\n",
       " 153: '.Net, ASP.Net, C#, Powershell, SQL - Scripting and Automation',\n",
       " 154: '.Net, C#, ASP.Net, SOAP, RESTful,JSON-Corillian-Voyager Engineer',\n",
       " 155: '.Net, C#, Sitecore, CMS, JavaScript - .Net Sitecore Developer',\n",
       " 156: '1099  Independent Contract Medical Sales',\n",
       " 157: '10x Client Support - 1 year fixed term',\n",
       " 158: '1st level support engineers (MS Dynamics NAV) ',\n",
       " 159: '2 Full-Time Caregivers for a Gentle, Kind Woman with Disabilities',\n",
       " 160: '2 Full-Time Caregivers for an Independent and Compassionate Woman ',\n",
       " 161: '2 X Business Analyst (3 to 6 months) - contract or fixed term',\n",
       " 162: '2-Year Analyst Program',\n",
       " 163: '200K + MANAGEMENT POSITION FOR EXPERIENCED MERCHANT CASH ADVANCE REPS',\n",
       " 164: '2015 MBA Internship - Advisory & Consulting',\n",
       " 165: '2015 MBA Internship - Research Associate ',\n",
       " 166: '2015 MBA- Advisory & Consulting Associate',\n",
       " 167: '2015 MBA- Research Associate',\n",
       " 168: '2015 Undergrad- Account Management Associate',\n",
       " 169: '2015 Undergrad- Equity Sales and Trading Associate',\n",
       " 170: '2015 Undergrad- Institutional Sales Associate',\n",
       " 171: '2015 Undergrad- Research Associate',\n",
       " 172: '25 CLIENT SUPPORT OFFICERS HIRING : IMMEDIATELY PLACING',\n",
       " 173: '25 CLIENT SUPPORT OFFICERS HIRING : IMMEDIATELY PLACING ',\n",
       " 174: '2D Artist',\n",
       " 175: '2nd  level support engineers (MS Dynamics NAV)',\n",
       " 176: '2nd Shift Machine Operator',\n",
       " 177: '2nd Shift Plant Manager',\n",
       " 178: '2nd/ 3rd Shift Production Workers',\n",
       " 179: '3 Full-Time Caregivers for an Independent and Compassionate Woman ',\n",
       " 180: '3 x Pension Transition Relationship Advisor (6 months fixed term)',\n",
       " 181: '3-month paid marketing and PR internship',\n",
       " 182: '3D Animator',\n",
       " 183: '3D Artist',\n",
       " 184: '3D Artist (Character)',\n",
       " 185: '3D Artist (Environment)',\n",
       " 186: '3D Artist (Modeling + Texturing)',\n",
       " 187: '3D Audio Engineer',\n",
       " 188: '3D Games Artist',\n",
       " 189: '3D Printing Engineer',\n",
       " 190: '3D Sketchup Artist [freelance]',\n",
       " 191: '3PL Services National Warehouse Manager',\n",
       " 192: '3rd Level Customer Support Engineer for VoIP Solution',\n",
       " 193: '3x Data Analyst (6 months fixed-term)',\n",
       " 194: '4 month role Tier 3 Support ',\n",
       " 195: '45 min Veteran Interview - $100 gift card',\n",
       " 196: '5 Guys',\n",
       " 197: '5 Test and Maintenance Engineers',\n",
       " 198: '5-Day Work Telemarketer (Exhibitions / Events / Trade Show)',\n",
       " 199: '6 x Pension Transition Relationship Advisor (6 months fixed term)',\n",
       " 200: '8th Grade Mathematics Teacher',\n",
       " 201: '8th Grade Science Teacher',\n",
       " 202: '<p>\\xa0</p>\"',\n",
       " 203: 'A Leading Trainer in Caulfield SEEKS Exp. Track Work Rider FT',\n",
       " 204: 'A Player',\n",
       " 205: 'A Stable Sales Career ',\n",
       " 206: 'AB12 3LE DGV Apprenticeships Under NAS 18 Year Olds Only',\n",
       " 207: 'AB12 3LE DGV Apprenticeships Under NAS 18-24 Year Olds Only',\n",
       " 208: 'AB12 3LE Driving Apprenticeships Under NAS 18-24 Year Olds Only',\n",
       " 209: 'ABA Counselor',\n",
       " 210: 'ACCOUNT MANAGER',\n",
       " 211: 'ACCOUNTANT',\n",
       " 212: 'ACCOUNTING ASSISTANT',\n",
       " 213: 'ACCOUNTING CLERK / BOOKKEEPER',\n",
       " 214: 'ACCOUNTING SUPERVISOR ',\n",
       " 215: 'ACTIONSCRIPT DEVELOPER',\n",
       " 216: 'ADF Developer',\n",
       " 217: 'ADF Inserter Operator',\n",
       " 218: 'ADF Operator II ',\n",
       " 219: 'ADMINISTRATIVE & OFFICE ASSISTANT',\n",
       " 220: 'ADMINISTRATIVE ASSISTANT',\n",
       " 221: 'ALM Consultant',\n",
       " 222: 'AMHS Counsellor ',\n",
       " 223: 'AML & anti fraud agent',\n",
       " 224: 'AML Officer',\n",
       " 225: 'ANDROID DEVELOPER',\n",
       " 226: 'API Architect, Customer Experience Platform',\n",
       " 227: 'API Developer',\n",
       " 228: 'APPRENTICE ELDERLY CARE WORKERS',\n",
       " 229: 'APPRENTICE RECRUITMENT CONSULTANT - Crewe',\n",
       " 230: 'ARC Manager',\n",
       " 231: 'ARCHITECT - DataStage - (8-10 YEARS)',\n",
       " 232: 'ARE YOU EXPERIENCED & PASSIONATE ABOUT CHILD CARE? AMAZING COMPANY, COMPENSATION & BENEFITS!',\n",
       " 233: 'ARE YOU EXPERIENCED & PASSIONATE ABOUT CHILD CARE? ARE YOU LOOKING FOR PRN?? THEN WE ARE LOOKING FOR YOU!!',\n",
       " 234: 'ARIS Consultant',\n",
       " 235: 'AS3 / Flash Developer',\n",
       " 236: 'ASIC Physical Design Engineer',\n",
       " 237: 'ASO/Keyword & Data Input Operations Assistant',\n",
       " 238: 'ASO/SEO Specialist',\n",
       " 239: 'ASP.NET (C#) Developer',\n",
       " 240: 'ASP.NET Developer',\n",
       " 241: 'ASP.NET MVC Developer',\n",
       " 242: 'ASP.NET MVC Full Stack Developer',\n",
       " 243: 'ASP.NET Web Developer',\n",
       " 244: 'ASP.Net (C#) Developer',\n",
       " 245: 'ASP.net Developer Job opportunity at United States,New Jersey',\n",
       " 246: 'ASSISTANT TREASURER ',\n",
       " 247: 'ATO - Ground Instructor ',\n",
       " 248: 'AUTOCAD OPERATOR',\n",
       " 249: 'AVP / VP Solutions - SAP BI & Analytics',\n",
       " 250: 'AVP, Business Development - IA/Big Data/Cloud Related Technology',\n",
       " 251: 'AX Technical Consultant',\n",
       " 252: 'Aberdeen DGV Apprenticeships Under NAS 18 Year Olds Only',\n",
       " 253: 'Aberdeen Driving Apprenticeship Under NAS 18 Year Olds Only',\n",
       " 254: 'Aberdeen Driving Goods Vehicle Apprenticeship Under NAS 18 Year Olds Only',\n",
       " 255: 'Aberdeen Driving Goods Vehicle Apprenticeships Under NAS 18-24 Year Olds Only',\n",
       " 256: 'Aberdeen Fragrance and Beauty Promotional Staff',\n",
       " 257: 'Above the Line Specialist ',\n",
       " 258: 'Academic Tutor - Upper Level Math or Science ',\n",
       " 259: 'Academy @ Kaunas',\n",
       " 260: 'Academy @ Vilnius',\n",
       " 261: 'Account & Media Manager',\n",
       " 262: 'Account Coordinator',\n",
       " 263: 'Account Coordinator ',\n",
       " 264: 'Account Coordinator (DC)',\n",
       " 265: 'Account Coordinator (NYC)',\n",
       " 266: 'Account Coordinator @ Tech PR Agency',\n",
       " 267: 'Account Director',\n",
       " 268: 'Account Director - Banking',\n",
       " 269: 'Account Director - Distribution ',\n",
       " 270: 'Account Director -- Business Development',\n",
       " 271: 'Account Director -Fashion and Beauty ',\n",
       " 272: 'Account Director, Affiliate Network ',\n",
       " 273: 'Account Executive',\n",
       " 274: 'Account Executive ',\n",
       " 275: 'Account Executive (B2B SaaS)',\n",
       " 276: 'Account Executive (Eastern Region)',\n",
       " 277: 'Account Executive (English Speaking)',\n",
       " 278: 'Account Executive (German Market)',\n",
       " 279: 'Account Executive (New York City)',\n",
       " 280: 'Account Executive (Spanish Speaking)',\n",
       " 281: 'Account Executive (Turkish Speaking)',\n",
       " 282: 'Account Executive (Western Region)',\n",
       " 283: 'Account Executive - Boston',\n",
       " 284: 'Account Executive - Charlotte',\n",
       " 285: 'Account Executive - Chicago, IL',\n",
       " 286: 'Account Executive - Colorado',\n",
       " 287: 'Account Executive - Healthcare IT',\n",
       " 288: 'Account Executive - Houston, TX',\n",
       " 289: 'Account Executive - Inside Sales',\n",
       " 290: 'Account Executive - Minneapolis',\n",
       " 291: 'Account Executive - NY',\n",
       " 292: 'Account Executive - NYC',\n",
       " 293: 'Account Executive - Online Marketing (Entry Level Position)',\n",
       " 294: 'Account Executive - Philadelphia',\n",
       " 295: 'Account Executive - Redlands, CA',\n",
       " 296: 'Account Executive - Sacramento, CA',\n",
       " 297: 'Account Executive - San Antonio, TX',\n",
       " 298: 'Account Executive - St Louis',\n",
       " 299: 'Account Executive - Sydney',\n",
       " 300: 'Account Executive - Washington DC',\n",
       " 301: 'Account Executive / Sales Rep',\n",
       " 302: 'Account Executive / Sr. Account Executive',\n",
       " 303: 'Account Executive : Web and Application Development',\n",
       " 304: 'Account Executive, Conscious Box',\n",
       " 305: 'Account Executive, Software Sales',\n",
       " 306: 'Account Executive/Sales Rep',\n",
       " 307: 'Account Growth Manager, Religious Organizations',\n",
       " 308: 'Account Implementation Specialist',\n",
       " 309: 'Account Management Intern',\n",
       " 310: 'Account Management Intern ',\n",
       " 311: 'Account Manager',\n",
       " 312: 'Account Manager ',\n",
       " 313: 'Account Manager $80-$130,000/yr',\n",
       " 314: 'Account Manager (Contract, maternity cover) Immediate start- agency for Jaguar land Rover)',\n",
       " 315: 'Account Manager (Fashion)',\n",
       " 316: 'Account Manager (Freelance)',\n",
       " 317: 'Account Manager (Germany)',\n",
       " 318: 'Account Manager (Mumbai role, Singapore company)',\n",
       " 319: 'Account Manager - (Recruitment Advertising)',\n",
       " 320: 'Account Manager - AdYapper',\n",
       " 321: 'Account Manager - Atlanta',\n",
       " 322: 'Account Manager - Chicago',\n",
       " 323: 'Account Manager - Europe',\n",
       " 324: 'Account Manager - Germany',\n",
       " 325: 'Account Manager - GrabOne Store',\n",
       " 326: 'Account Manager - High Growth Specialty Finance Company',\n",
       " 327: 'Account Manager - Los Angeles',\n",
       " 328: 'Account Manager - Luxury Car Brand',\n",
       " 329: 'Account Manager - New York City',\n",
       " 330: 'Account Manager - New York/New Jersey',\n",
       " 331: 'Account Manager - Sales',\n",
       " 332: 'Account Manager - Seattle',\n",
       " 333: 'Account Manager - Sydney',\n",
       " 334: 'Account Manager - WeDeliver',\n",
       " 335: 'Account Manager - West Africa (Expat)',\n",
       " 336: 'Account Manager -Xbox',\n",
       " 337: 'Account Manager / Customer Service Representative',\n",
       " 338: 'Account Manager / Outside Sales Professional',\n",
       " 339: 'Account Manager Business Solutions Germany',\n",
       " 340: 'Account Manager Fashion & Beauty ',\n",
       " 341: 'Account Manager Germany',\n",
       " 342: 'Account Manager Internship - Bookacoach.com',\n",
       " 343: 'Account Manager NL',\n",
       " 344: 'Account Manager South Africa',\n",
       " 345: 'Account Manager Switzerland',\n",
       " 346: 'Account Manager UK',\n",
       " 347: 'Account Manager Web/Mobile',\n",
       " 348: 'Account Manager, Strategic Partnerships',\n",
       " 349: 'Account Manager/CSR -insurance agency',\n",
       " 350: 'Account Manager/Director',\n",
       " 351: 'Account Payable Clerk',\n",
       " 352: 'Account Payable Rep.',\n",
       " 353: 'Account Planner',\n",
       " 354: 'Account Representative',\n",
       " 355: 'Account Representative | Healthcare',\n",
       " 356: 'Account Sales Managers $80-$130,000/yr',\n",
       " 357: 'Account Specialist ',\n",
       " 358: 'Account Specialist (Project Management and Strategy Development)',\n",
       " 359: 'Account Strategist (Non-Profit Experience Needed)',\n",
       " 360: 'Account Supervisor',\n",
       " 361: 'Account and Biz Development Manager',\n",
       " 362: 'Account manager & director of customer success',\n",
       " 363: 'Accountant',\n",
       " 364: 'Accountant ',\n",
       " 365: 'Accountant (General Ledger)',\n",
       " 366: 'Accountant - Leading Private Equity Firm',\n",
       " 367: 'Accountant / Book Keeper',\n",
       " 368: 'Accountant / Office Manager',\n",
       " 369: 'Accountant Tax Advisory',\n",
       " 370: 'Accounting & Finance Manager (Patras)',\n",
       " 371: 'Accounting Administrator (Part time)',\n",
       " 372: 'Accounting Assistant',\n",
       " 373: 'Accounting Assistant ',\n",
       " 374: 'Accounting Associate',\n",
       " 375: 'Accounting Associate - Restaurant Experience',\n",
       " 376: 'Accounting Clerk',\n",
       " 377: 'Accounting Clerk $15/hr',\n",
       " 378: 'Accounting Clerk $20/hr',\n",
       " 379: 'Accounting Clerk - $25',\n",
       " 380: 'Accounting Clerk - Pharmaceuticals',\n",
       " 381: 'Accounting Clerk($20/hr)',\n",
       " 382: 'Accounting Clerk-Dealership',\n",
       " 383: 'Accounting Clerk/ $23',\n",
       " 384: 'Accounting Manager',\n",
       " 385: 'Accounting Manager/Assistant Controller',\n",
       " 386: 'Accounting Manger ',\n",
       " 387: 'Accounting Product Support Representative',\n",
       " 388: 'Accounting Professional',\n",
       " 389: 'Accounting Specialist',\n",
       " 390: 'Accounting and Retail Coordinator',\n",
       " 391: 'Accounting/Data entry',\n",
       " 392: 'Accounts & Marketing Associate Director',\n",
       " 393: 'Accounts & Office Administrator',\n",
       " 394: 'Accounts & Payroll Administrator',\n",
       " 395: 'Accounts & Payroll Officer',\n",
       " 396: 'Accounts Administrator',\n",
       " 397: 'Accounts Administrator - Temporary Role',\n",
       " 398: 'Accounts Assistant',\n",
       " 399: 'Accounts Payable Administrator',\n",
       " 400: 'Accounts Payable Assistant',\n",
       " 401: 'Accounts Payable Associate',\n",
       " 402: 'Accounts Payable Clerk',\n",
       " 403: 'Accounts Payable Clerk ',\n",
       " 404: 'Accounts Payable Manager',\n",
       " 405: 'Accounts Payable Rep',\n",
       " 406: 'Accounts Payable Specialist',\n",
       " 407: 'Accounts Payable Supervisor',\n",
       " 408: 'Accounts Receivable Analyst',\n",
       " 409: 'Accounts Receivable Clerk',\n",
       " 410: 'Accounts Receivable Specialist',\n",
       " 411: 'Accounts management trainee',\n",
       " 412: 'Acquire Users / Customers (Marketing & Sales)',\n",
       " 413: 'Acquisition Marketing Manager',\n",
       " 414: 'Acquisition Marketing Manager - Netlog',\n",
       " 415: 'Actionscript Developer',\n",
       " 416: 'Active Directory Analyst',\n",
       " 417: 'Activities Co-Ordinator',\n",
       " 418: 'Ad Campaign Coordinator (Italian)',\n",
       " 419: 'Ad Monetisation Expert',\n",
       " 420: 'Ad Network Performance Manager (Japanese or Korean Speaker)',\n",
       " 421: 'Ad Operations Assistant',\n",
       " 422: 'Ad Operations Manager',\n",
       " 423: 'Ad Operations Manager ',\n",
       " 424: 'Ad Operations Specialist',\n",
       " 425: 'Ad Ops and Programmatic Analyst',\n",
       " 426: 'Ad campaign coordinator',\n",
       " 427: 'Ad campaign coordinator (Polish speaking)',\n",
       " 428: 'Ad campaign coordinator (Spanish speaking)',\n",
       " 429: 'AdWords - Analytics Specialist',\n",
       " 430: 'Addiction and Mental Health Counsellor',\n",
       " 431: 'Admin / Marketing Assistant',\n",
       " 432: 'Admin Assistaant',\n",
       " 433: 'Admin Assistant',\n",
       " 434: 'Admin Assistant ',\n",
       " 435: 'Admin Assistant - Seoul',\n",
       " 436: 'Admin Assistant Position ',\n",
       " 437: 'Admin Assistant TX',\n",
       " 438: 'Admin Assistant/ Receptionist ',\n",
       " 439: 'Admin Assistant/Operations Manager',\n",
       " 440: 'Admin Assistant\\\\Urgently',\n",
       " 441: 'Admin Clerical Data Processor',\n",
       " 442: 'Admin Clerk Remote Position',\n",
       " 443: 'Admin Clerk,Office Assistant,Customer',\n",
       " 444: 'Admin Support',\n",
       " 445: 'Administration',\n",
       " 446: 'Administration Assistant',\n",
       " 447: 'Administration Support & PA to GM',\n",
       " 448: 'Administrative',\n",
       " 449: 'Administrative / General Office / Data Entry',\n",
       " 450: 'Administrative / Proofreader / HTML Editor',\n",
       " 451: 'Administrative Assistant',\n",
       " 452: 'Administrative Assistant ',\n",
       " 453: 'Administrative Assistant (Digital, Internet, Mobile)',\n",
       " 454: 'Administrative Assistant (Digital, Tech, Ops)',\n",
       " 455: 'Administrative Assistant - $19.35 Per Hr',\n",
       " 456: 'Administrative Assistant - Commercial Real Estate',\n",
       " 457: 'Administrative Assistant - Part-time (NW Georgia Center)',\n",
       " 458: 'Administrative Assistant - Sales Support',\n",
       " 459: 'Administrative Assistant / Office Manager',\n",
       " 460: 'Administrative Assistant I',\n",
       " 461: 'Administrative Assistant Payables',\n",
       " 462: 'Administrative Assistant To Lead Pastor',\n",
       " 463: 'Administrative Assistant, Business and Economics',\n",
       " 464: 'Administrative Assistant, Fine & Performing Arts',\n",
       " 465: 'Administrative Assistant/Customer Service',\n",
       " 466: 'Administrative Assistant/Front Desk Clerk',\n",
       " 467: 'Administrative Assistant/Office Assistant',\n",
       " 468: 'Administrative Assistant/Office Assistant ',\n",
       " 469: 'Administrative Assistant/Receptionist ',\n",
       " 470: 'Administrative Assitstant',\n",
       " 471: 'Administrative Clerk',\n",
       " 472: 'Administrative Coordinator',\n",
       " 473: 'Administrative Manager',\n",
       " 474: 'Administrative Officer - Receptionist',\n",
       " 475: 'Administrative Position ',\n",
       " 476: 'Administrative Positions',\n",
       " 477: 'Administrative Specialist II  ',\n",
       " 478: 'Administrative Support',\n",
       " 479: 'Administrative Support (Student Job / Internship)',\n",
       " 480: 'Administrative Support Clerk - 11 Month Contract ',\n",
       " 481: 'Administrative Workers Wanted',\n",
       " 482: 'Administrative/Clerical',\n",
       " 483: 'Administrative/Front Desk ',\n",
       " 484: 'Administrative/Project Assistant',\n",
       " 485: 'Administrative/Receptionist - $19.25/hr',\n",
       " 486: 'Administrator',\n",
       " 487: 'Administrator / EA',\n",
       " 488: 'Adminstrative/Data Entry',\n",
       " 489: 'Admissions Advisor',\n",
       " 490: 'Admissions Counselor',\n",
       " 491: 'Admissions Counselor (Denver Metro)',\n",
       " 492: 'Adobe Designer fluent in French',\n",
       " 493: 'Adops Coordinator',\n",
       " 494: 'Adops Coordinator - Political Vertical',\n",
       " 495: 'Adult Education Teacher',\n",
       " 496: 'Advanced Analytics Architect',\n",
       " 497: 'Advanced Developer - OBI',\n",
       " 498: 'Advanced Embedded Software Engineer',\n",
       " 499: 'Advanced Marketing Analytics Manager (VP) (Banking)',\n",
       " 500: 'Advanced Network Administrator',\n",
       " 501: 'Advanced RF Technologies',\n",
       " 502: 'Advanced Semiconductor Power Device',\n",
       " 503: 'Advanced Services SON Engineer',\n",
       " 504: 'Advanced error correction coding',\n",
       " 505: 'Advertise for me on eBay  - Part Time ',\n",
       " 506: 'Advertisement Operations Specialists',\n",
       " 507: 'Advertising Account Executive',\n",
       " 508: 'Advertising Account Manager',\n",
       " 509: 'Advertising Consultant, Riverside',\n",
       " 510: 'Advertising Manager',\n",
       " 511: 'Advertising Sales Director',\n",
       " 512: 'Advertising Sales Manager',\n",
       " 513: 'Advertising Sales Reps- Multiple Locations',\n",
       " 514: 'Advertising Sales/Account Executive',\n",
       " 515: 'Advertising Specialist',\n",
       " 516: 'Advertising Territory Manager',\n",
       " 517: 'Advertising and Promotion Assistant',\n",
       " 518: 'Advisor-Inbound Technical',\n",
       " 519: 'Advisory & Consulting Associate',\n",
       " 520: 'Advisory Board Members',\n",
       " 521: 'Affiliate Agent',\n",
       " 522: 'Affiliate Manager',\n",
       " 523: 'Affiliate Marketing Intern ',\n",
       " 524: 'Affiliate Marketing Manager',\n",
       " 525: 'Affiliate Partnerships Manager',\n",
       " 526: 'Affiliates/Partnerships Manager',\n",
       " 527: 'Affordable Housing Associate',\n",
       " 528: 'Affordable Housing Site Manager',\n",
       " 529: 'Africa Social Media Strategist',\n",
       " 530: 'Aftermarket Consultant',\n",
       " 531: 'Agency Account Manager',\n",
       " 532: 'Agency Manager',\n",
       " 533: 'Agency Sales Managers $150-$175,000/yr',\n",
       " 534: 'Agent inbound business',\n",
       " 535: 'Agent-Inbound Cust Svc',\n",
       " 536: 'Agent-Inbound Customer Service',\n",
       " 537: 'Agent-Inbound Sales Position',\n",
       " 538: 'Agile Coach',\n",
       " 539: 'Agile Coach/PM',\n",
       " 540: 'Agile Delivery Manager ',\n",
       " 541: 'Agile Developer/Software Engineer',\n",
       " 542: 'Agile Project Manager',\n",
       " 543: 'Agile Tester',\n",
       " 544: 'Agile coach',\n",
       " 545: 'Agile tester',\n",
       " 546: 'Agile/Team Coach ',\n",
       " 547: 'Agronomic Data Scientist',\n",
       " 548: 'Air Environmental Engineer',\n",
       " 549: 'Air Quality Engineer ',\n",
       " 550: 'Airframe Design Engineer',\n",
       " 551: 'Airframe Structures Design Engineer',\n",
       " 552: 'All Other Talented People',\n",
       " 553: 'All Round Rockstar Intern',\n",
       " 554: 'All round web design superstar for cutting edge non-profit websites',\n",
       " 555: 'Alliance Data - Director, Pricing & Profit Analysis',\n",
       " 556: 'Alliance Data - Manager, Pricing & Profit Analysis',\n",
       " 557: 'Alliance Data - Pricing & Profit Analyst Job',\n",
       " 558: 'Alliance Manager',\n",
       " 559: 'Altens Aberdeen Driving Goods Vehicle Apprenticeship Under NAS 18 Year Olds Only',\n",
       " 560: 'Alternative payment Advisor',\n",
       " 561: 'Amazing Graphic Designer for Homepage',\n",
       " 562: 'Amazon Web Services (AWS) Administrator',\n",
       " 563: 'Ambit Energy Consultants ',\n",
       " 564: 'Ambulatory Site Director',\n",
       " 565: 'Ambulatory Surgery and Endoscopy RN Operations Manager  ',\n",
       " 566: 'Analist / Projectleider',\n",
       " 567: 'Analista Comercial (Servicio a clientes)',\n",
       " 568: 'Analista de Marketing',\n",
       " 569: 'Analista de Recursos Humanos',\n",
       " 570: 'Analog / Mixed Signal Testing Experts - Salary 40 Lakhs+',\n",
       " 571: 'Analyst',\n",
       " 572: 'Analyst (SOA, XML, BPMN, UML)',\n",
       " 573: 'Analyst - Acquisitions and Finance',\n",
       " 574: 'Analyst - Credit, Marketing & Customer Analytics - High Growth Specialty Finance Company',\n",
       " 575: 'Analyst / Software Engineer',\n",
       " 576: 'Analyst Programmer ',\n",
       " 577: 'Analyst, Client Services',\n",
       " 578: 'Analyst, Partnership Development & Client Fulfillment',\n",
       " 579: 'Analyst/Business Analysis',\n",
       " 580: 'Analytical Marketer - SEO, Social, Adwords & More',\n",
       " 581: 'Analytics Associate',\n",
       " 582: 'Analytics Engineer',\n",
       " 583: 'Ancillary Revenue Executive',\n",
       " 584: 'Android - Mobile UI Expert',\n",
       " 585: 'Android App / UI Developer',\n",
       " 586: 'Android Application Developer',\n",
       " 587: 'Android Architect',\n",
       " 588: 'Android Developer',\n",
       " 589: 'Android Developer ',\n",
       " 590: 'Android Developer (Kit Kat Kruncher)',\n",
       " 591: 'Android Developer (m/f)',\n",
       " 592: 'Android Developer (x5)',\n",
       " 593: 'Android Developer - Green field project',\n",
       " 594: 'Android Developer - Official London Travel App',\n",
       " 595: 'Android Developer - Rithmio',\n",
       " 596: 'Android Engineer',\n",
       " 597: 'Android Engineer ',\n",
       " 598: 'Android Engineer at high growth health IT startup',\n",
       " 599: 'Android Framework Software Engineer',\n",
       " 600: 'Android Mobile Software Engineer',\n",
       " 601: 'Android NDK Developer',\n",
       " 602: 'Android Programmer ',\n",
       " 603: 'Android Software Architect',\n",
       " 604: 'Android Software Engineer',\n",
       " 605: 'Android Tech Lead',\n",
       " 606: 'Android Test Engineer',\n",
       " 607: 'Android UI Automation Engineer',\n",
       " 608: 'Android developer',\n",
       " 609: 'Android developer (internship)',\n",
       " 610: 'Android framework Developer in CA',\n",
       " 611: 'Angular.js Frontend Engineer',\n",
       " 612: 'AngularJS Developer',\n",
       " 613: 'AngularJS Web Developer (m/w) ',\n",
       " 614: 'AngularJS and Bootstrap developers',\n",
       " 615: 'AngularJS,HTML5 and CSS Front End Developer',\n",
       " 616: 'Animal Care Assistant- Part time',\n",
       " 617: 'Animal Care Technician',\n",
       " 618: 'Animal Control Officer I',\n",
       " 619: 'Animation Intern',\n",
       " 620: 'Animator',\n",
       " 621: 'Antenna Specialist',\n",
       " 622: 'Apartment Community Service Manager',\n",
       " 623: 'App Developer',\n",
       " 624: 'App Support Specialist',\n",
       " 625: 'App developer, C# Xamarin',\n",
       " 626: 'Apparel / Streetwear Designer',\n",
       " 627: 'Apparel Business Manager',\n",
       " 628: 'Apparel, Streetwear Designer',\n",
       " 629: 'Apple Repair Technician',\n",
       " 630: 'Apple Sales Associate',\n",
       " 631: 'Apple Specialized Technician',\n",
       " 632: 'Appliance Repair Technician',\n",
       " 633: 'Appliance Technician',\n",
       " 634: 'Application Developer',\n",
       " 635: 'Application Developer (PHP/LAMP)',\n",
       " 636: 'Application Developer - .NET/Java',\n",
       " 637: 'Application Developer - Salesforce',\n",
       " 638: 'Application Developer - SharePoint',\n",
       " 639: 'Application Developer C#.NET',\n",
       " 640: 'Application Developer Java',\n",
       " 641: 'Application Developer Web Technologies',\n",
       " 642: 'Application Developer | JavaScript/HTML/Node.JS',\n",
       " 643: 'Application Developer/SQL Server',\n",
       " 644: 'Application Development Manager',\n",
       " 645: 'Application Form',\n",
       " 646: 'Application Security Consultant',\n",
       " 647: 'Application Software Engineer',\n",
       " 648: 'Application Specialist',\n",
       " 649: 'Application Support Analyst',\n",
       " 650: 'Application Support Consultant',\n",
       " 651: 'Application Support Engineer',\n",
       " 652: 'Application Support Engineer ( Clerity )',\n",
       " 653: 'Application to Adcash',\n",
       " 654: 'Applications Administrator',\n",
       " 655: 'Applications Developer, Digital ',\n",
       " 656: 'Applications Engineer',\n",
       " 657: 'Applications Support Manager',\n",
       " 658: \"Applications' Systems Engineer\",\n",
       " 659: 'Applied electromagnetics',\n",
       " 660: 'Apply to our Jobs',\n",
       " 661: 'Appointment Coordinator',\n",
       " 662: 'Appointment Setter',\n",
       " 663: 'Appointment Setter avg. 1,000-1,100 weekly Plus Commission',\n",
       " 664: 'Appointment Setters',\n",
       " 665: 'Appointment coordinator',\n",
       " 666: 'Appointment setter',\n",
       " 667: 'Apprentice Carpenter',\n",
       " 668: 'Apprentice Office Administrator 16-18 Year Olds Only',\n",
       " 669: 'Apprentice Ruby Developer',\n",
       " 670: 'Apprentice to the CEO',\n",
       " 671: 'Arabic Copywriter - Creative Services Team',\n",
       " 672: 'Aramark - Pricing Director - Healthcare Technologies',\n",
       " 673: 'Architect (Middleware - MQ) - Kuwait',\n",
       " 674: 'Architectural Designer',\n",
       " 675: 'Are you the next Social Media star? | StudyHall.com',\n",
       " 676: 'Area Coordinator (Anticipated)',\n",
       " 677: 'Area Manager',\n",
       " 678: 'Area Sales Manager - Ahmedabad',\n",
       " 679: 'Area Sales Manager - Bangalore',\n",
       " 680: 'Area Sales Manager - Chennai',\n",
       " 681: 'Area Sales Manager - Delhi',\n",
       " 682: 'Area Sales Manager - Hyderabad',\n",
       " 683: 'Area Sales Manager - Southern Greece',\n",
       " 684: 'Area Vehicle Purchaser',\n",
       " 685: 'Armed Security Officer (Immediate Openings)',\n",
       " 686: 'Art Development Manager',\n",
       " 687: 'Art Director',\n",
       " 688: 'Art Director (Freelance to Full-time)',\n",
       " 689: 'Art Director (SF)',\n",
       " 690: 'Art Director Interactive / Design',\n",
       " 691: 'Art Director/Lead Web Designer',\n",
       " 692: 'Art Teacher',\n",
       " 693: 'Asbestos Foreman',\n",
       " 694: 'Asbestos Worker',\n",
       " 695: 'Asistente',\n",
       " 696: 'Asistente Administrativa',\n",
       " 697: 'Asistente Administrativo',\n",
       " 698: 'Assembly & Test Engineer',\n",
       " 699: 'Assembly Technician ',\n",
       " 700: 'Assembly Technicians',\n",
       " 701: 'Assessment Coordinator',\n",
       " 702: 'Asset Manager - Project Management Exp - Tyler, TX',\n",
       " 703: 'Asset Recovery Manager',\n",
       " 704: 'Assistance on start-up',\n",
       " 705: 'Assistant Account Executive',\n",
       " 706: 'Assistant Account Executive ',\n",
       " 707: 'Assistant Account position!!! ',\n",
       " 708: 'Assistant Accountant',\n",
       " 709: 'Assistant Accountant for immediate start',\n",
       " 710: 'Assistant Accountant/immediate start',\n",
       " 711: 'Assistant Accounting',\n",
       " 712: 'Assistant Branch Manager',\n",
       " 713: 'Assistant Centre Manager',\n",
       " 714: 'Assistant Chief Nursing Officer',\n",
       " 715: 'Assistant Chief Nursing Officer (hospital west of Montgomery, AL)',\n",
       " 716: 'Assistant Content Producer',\n",
       " 717: 'Assistant Controller',\n",
       " 718: 'Assistant Cook',\n",
       " 719: 'Assistant Director of Interactive Marketing and New Media',\n",
       " 720: 'Assistant Editor ',\n",
       " 721: 'Assistant General Counsel and Loan Operations Specialist',\n",
       " 722: 'Assistant Hotel Manager',\n",
       " 723: 'Assistant Instructor: Web Development Immersive',\n",
       " 724: 'Assistant Manager',\n",
       " 725: 'Assistant Manager Corporate Finance & Planning',\n",
       " 726: 'Assistant Manager, Global eCommerce & Digital Marketing',\n",
       " 727: 'Assistant Managers / Supervisors',\n",
       " 728: 'Assistant Marketing Communications Manager ',\n",
       " 729: 'Assistant Personal Chef',\n",
       " 730: 'Assistant Product Manager Internship',\n",
       " 731: 'Assistant Production & Copy Editor',\n",
       " 732: 'Assistant Production Manager',\n",
       " 733: 'Assistant Project Manager',\n",
       " 734: 'Assistant Project Manager position at the National Observatory of Athens',\n",
       " 735: 'Assistant Property Manager',\n",
       " 736: 'Assistant Reception/Administration',\n",
       " 737: 'Assistant Retail Manager -- Must LOVE Dogs',\n",
       " 738: 'Assistant Retail Sales Manager ',\n",
       " 739: 'Assistant Sales Manager',\n",
       " 740: 'Assistant Service Manager',\n",
       " 741: 'Assistant Softball Coach',\n",
       " 742: 'Assistant Store Manager- Central, South & West',\n",
       " 743: 'Assistant Store Manager- London Area',\n",
       " 744: 'Assistant Teacher',\n",
       " 745: 'Assistant Team Leader (Developmental Disabilities)',\n",
       " 746: 'Assistant Technical Product Manager',\n",
       " 747: 'Assistant Training & Quality Development Faciliator',\n",
       " 748: 'Assistant Training & Quality Development Facilitator',\n",
       " 749: 'Assistant Training and Quality Development Faciliator',\n",
       " 750: 'Assistant Training and Quality Development Facilitator',\n",
       " 751: 'Assistant for Worship',\n",
       " 752: 'Assistant position. The best job is waiting for you!!! ',\n",
       " 753: 'Assistant to Head of Music',\n",
       " 754: 'Associate',\n",
       " 755: 'Associate - Leverage Finance',\n",
       " 756: 'Associate Account Manager',\n",
       " 757: 'Associate Account Manager-DRAFT',\n",
       " 758: 'Associate Bioinformaticist',\n",
       " 759: 'Associate Business Development',\n",
       " 760: 'Associate Consultant',\n",
       " 761: 'Associate Consultant (Mac and/or PC)',\n",
       " 762: 'Associate Creative Director',\n",
       " 763: 'Associate Creative Director ',\n",
       " 764: 'Associate Creative Director - Art',\n",
       " 765: 'Associate Digital Producer',\n",
       " 766: 'Associate Director',\n",
       " 767: 'Associate Director of Development',\n",
       " 768: 'Associate Director, iOS',\n",
       " 769: 'Associate Executive Director',\n",
       " 770: 'Associate HR',\n",
       " 771: 'Associate Luxury Manager',\n",
       " 772: 'Associate Manager ',\n",
       " 773: 'Associate Manager of Community',\n",
       " 774: 'Associate Marketing Manager',\n",
       " 775: 'Associate Product Manager',\n",
       " 776: 'Associate Receptionist ',\n",
       " 777: 'Associate Recruiter',\n",
       " 778: 'Associate Strategist',\n",
       " 779: 'Associate support developer - ServiceNow',\n",
       " 780: 'Associate to the Executive Office',\n",
       " 781: 'Association Manager',\n",
       " 782: 'Association Property Manager',\n",
       " 783: 'AtYourService Team',\n",
       " 784: 'Athens Marketing Position',\n",
       " 785: 'Atlassian JIRA Consultant (AJC)',\n",
       " 786: 'Atlassian JIRA Developer (AJD)',\n",
       " 787: 'Attorney',\n",
       " 788: 'Attorney Recruiter',\n",
       " 789: 'Attorney Search Director',\n",
       " 790: 'Audience Development Intern',\n",
       " 791: 'Audio Technician',\n",
       " 792: 'Audio-visual technician ',\n",
       " 793: 'Audiologist or Clinical Hearing Screener Required ',\n",
       " 794: 'Auditor',\n",
       " 795: 'Auto / Industrial Parts Sales Position',\n",
       " 796: 'Automated Test Analyst',\n",
       " 797: 'Automated Test Developer',\n",
       " 798: 'Automated Test Engineer',\n",
       " 799: 'Automation Process Control Technician',\n",
       " 800: 'Automation Software Engineer',\n",
       " 801: 'Automation Tester',\n",
       " 802: 'Automotive Account Manager',\n",
       " 803: 'Automotive Accounting Office ',\n",
       " 804: 'Automotive Controls Engineer',\n",
       " 805: 'Automotive Crash Analyst',\n",
       " 806: 'Automotive Internet Sales Representative',\n",
       " 807: 'Automotive Lighting Designer',\n",
       " 808: 'Automotive Sales Manager',\n",
       " 809: 'Automotive Technician',\n",
       " 810: 'Automotive Wiring Harness Designer',\n",
       " 811: 'Automotive Writer',\n",
       " 812: 'Avionics Systems Design and Analysis Engineer',\n",
       " 813: 'Avionics Systems Engineer',\n",
       " 814: 'Awesome Coder',\n",
       " 815: 'Awesome Data Insertion Specialist',\n",
       " 816: 'Awesome Fake Job',\n",
       " 817: 'Awesome Roommate Wanted -$1650 Utilities Included',\n",
       " 818: 'Awesome freelance journalist (long-form)',\n",
       " 819: 'Aya Networking Happy Hour Event',\n",
       " 820: 'Ayudante General',\n",
       " 821: 'B2 4RN Business Admin Apprenticeship Under NAS 16-18 Year Olds Only',\n",
       " 822: 'B2 4RN Business Admin Apprenticeship under NAS 16-18 year olds only!',\n",
       " 823: 'B2B Energy Sales Advisor (Outbound) Mon-Fri 9am-5pm',\n",
       " 824: 'B2B Growth Hacker',\n",
       " 825: 'B2B Inside Sales Account Executive',\n",
       " 826: 'B2B Outside Sales - commissions only',\n",
       " 827: 'B2B Sales Executive Manchester City Centre',\n",
       " 828: 'B70 9QW Recruitment Apprentice available under NAS 16-18 year olds',\n",
       " 829: 'BA Recon GL',\n",
       " 830: 'BA/Project Manager',\n",
       " 831: 'BACKEND TEAM LEAD AND ARCHITECT',\n",
       " 832: 'BANNER ANIMATOR',\n",
       " 833: 'BB11 5TD Business Admin Apprenticeship Under NAS 16-18 Year Olds Only',\n",
       " 834: 'BD10 9TQ Recruitment Apprenticeship Available Under NAS 16-18 year olds only!',\n",
       " 835: 'BD18 Dental Receptionist Apprenticeship Under NAS 16-24 Year Olds Only',\n",
       " 836: 'BD23 Customer Service Apprenticeship Under NAS 16-24 Year Olds Only',\n",
       " 837: 'BDC Agent',\n",
       " 838: 'BDC Representative',\n",
       " 839: 'BH15 1BT Business Admin Apprenticeship government funding 16-18 year olds only!',\n",
       " 840: 'BI / Analytics Lead',\n",
       " 841: 'BI / Data Analyst',\n",
       " 842: 'BI Analyst ',\n",
       " 843: 'BI Analyst - GetTaxi',\n",
       " 844: 'BI Consultant & Database Expert',\n",
       " 845: 'BI DATA WAREHOUSE PL/SQL ENGINEER',\n",
       " 846: 'BI Developer',\n",
       " 847: 'BI Developer - Analyst',\n",
       " 848: 'BI Engineer ',\n",
       " 849: 'BI Interns',\n",
       " 850: 'BI Practice Director',\n",
       " 851: 'BI Practice Manager',\n",
       " 852: 'BI Publisher Developer',\n",
       " 853: 'BI Software Developer Trainee (Fresher)',\n",
       " 854: 'BI Solutions Intern ',\n",
       " 855: 'BILINGUAL JAPANESE PLANNING AND GENERAL AFFAIRS SUPERVISOR',\n",
       " 856: 'BILINGUAL JAPANESE RISK MANAGEMENT OFFICER',\n",
       " 857: 'BIOMEDICAL EQUIPMENT TECHNICAN',\n",
       " 858: 'BIOS Development Engineer',\n",
       " 859: 'BPLM TeamCenter Consultant',\n",
       " 860: 'BRAND COMMUNICATOR',\n",
       " 861: 'BTL Specialist ',\n",
       " 862: 'BUSINESS DEVELOPMENT ASSOCIATE, SCANDINAVIA',\n",
       " 863: 'BUSINESS GROWTH EXECUTIVE',\n",
       " 864: 'BUSINESS-ANALYST - DWH-Business Intelligence - (8-10 YEARS)',\n",
       " 865: 'Baby Care Advisor',\n",
       " 866: 'Back End .NET Developer',\n",
       " 867: 'Back End Developer (Python / MySQL)',\n",
       " 868: 'Back End Engineer',\n",
       " 869: 'Back End Engineer - Platform Team',\n",
       " 870: 'Back End PHP Developer',\n",
       " 871: 'Back End Software Engineer',\n",
       " 872: 'Back End Software Engineer (Junior)',\n",
       " 873: 'Back Office Junior PHP Developer',\n",
       " 874: 'Back Office PHP Developer',\n",
       " 875: 'Back Office Senior PHP Developer',\n",
       " 876: 'Back Pocket Applicants',\n",
       " 877: 'Back office Tester',\n",
       " 878: 'Back-End Developer',\n",
       " 879: 'Back-End Developer ',\n",
       " 880: 'Back-End Python Developer ',\n",
       " 881: 'Back-End Ruby Developer',\n",
       " 882: 'Back-end Developer',\n",
       " 883: 'Back-end Developer - Financial/Retirement Modeling Tools',\n",
       " 884: 'Back-end Developer Python/Django',\n",
       " 885: 'Back-end Engineer ',\n",
       " 886: 'Back-end Engineer - StageBloc',\n",
       " 887: 'Back-end Node.js Game Developer',\n",
       " 888: 'Back-end Web Developer',\n",
       " 889: 'Back-end/Full Stack Developer',\n",
       " 890: 'Backend Developer',\n",
       " 891: 'Backend Developer (Ninja)',\n",
       " 892: 'Backend Developer (PHP)',\n",
       " 893: 'Backend Developer - Employee #2',\n",
       " 894: 'Backend Developer PHP/Symfony2',\n",
       " 895: 'Backend Engineer',\n",
       " 896: 'Backend Engineer (Payment)',\n",
       " 897: 'Backend Engineer/DevOps ',\n",
       " 898: 'Backend Java Engineer ',\n",
       " 899: 'Backend JavaScript developer',\n",
       " 900: 'Backend Php Developer',\n",
       " 901: 'Backend Platform Engineer',\n",
       " 902: 'Backend Ruby on Rails Developer',\n",
       " 903: 'Backend Software Developer (contractor)',\n",
       " 904: 'Backend Software Engineer',\n",
       " 905: 'Backend Stack Developer Intern',\n",
       " 906: 'Backend Systems Developer',\n",
       " 907: 'Backend developer',\n",
       " 908: 'Backend engineer (first hire)',\n",
       " 909: 'Backend/Node.js Developer',\n",
       " 910: 'Backstage Pass Internship',\n",
       " 911: 'Ballet Teacher',\n",
       " 912: 'Bank CFO & Controller-Madison, WI',\n",
       " 913: 'Bank Mortgage Team Lead & Two Originators',\n",
       " 914: 'Bank Mortgage Team Leader & Two Originators',\n",
       " 915: 'Banking Attorney Senior',\n",
       " 916: 'Banking Trust Officer-Rockford, IL',\n",
       " 917: 'Banking and Finance Attorney',\n",
       " 918: 'Bankruptcy Specialist',\n",
       " 919: 'Bankruptcy Specialist-Mortgage Industry',\n",
       " 920: 'Bankruptcy Supervisor',\n",
       " 921: 'Bar manager in the hotel St. Regis Doha (Qatar)',\n",
       " 922: 'Barista Supremo (Part-time)',\n",
       " 923: 'Bartender',\n",
       " 924: 'Bartender in the airport',\n",
       " 925: 'Bartender/Server Wanted - Great Tips',\n",
       " 926: 'Bartenders and Servers',\n",
       " 927: 'Basingstoke Fragrance and Beauty Promotional Staff',\n",
       " 928: 'Basingstoke Fragrance/Beauty Staff Needed',\n",
       " 929: 'Batley Apprentice Care Home Receptionist Under NAS 16-18 Year Olds Only',\n",
       " 930: 'Batley Business Admin Apprenticeship Government Funding Available for 16-18 Year Olds Only',\n",
       " 931: 'Battery Expert',\n",
       " 932: 'Beauty & Fragrance consultants',\n",
       " 933: 'Beauty & Fragrance consultants needed',\n",
       " 934: 'Beauty & Fragrance consultants needed in Newcastle',\n",
       " 935: 'Beauty Agency Staff ',\n",
       " 936: 'Become a co-Director in Chiang Rai, Thailand',\n",
       " 937: 'Become a co-Director in Indonesia',\n",
       " 938: 'Behavioral Assistant ',\n",
       " 939: 'Behavioral Assistant Intern  ',\n",
       " 940: 'Belfast Fragrance and Beauty Promotional Staff',\n",
       " 941: 'Benefit Analyst',\n",
       " 942: 'Benefit Analyst - NYC',\n",
       " 943: 'Benefit Counselor',\n",
       " 944: 'Benefits Consultant',\n",
       " 945: 'Benefits Consultant - Warrington',\n",
       " 946: 'Benefits and Payroll Manager',\n",
       " 947: 'Best Buy - Director, Pricing Strategy and Capability Design Job',\n",
       " 948: 'Best Internship in the World',\n",
       " 949: 'Bid Collection Specialist',\n",
       " 950: 'Biddable Media Manager',\n",
       " 951: 'Big Data - Hadoop Designer',\n",
       " 952: 'Big Data / Hadoop Engineer',\n",
       " 953: 'Big Data Analyst',\n",
       " 954: 'Big Data Applications Architect / Manager ',\n",
       " 955: 'Big Data CTO and Co-Founder',\n",
       " 956: 'Big Data Developer',\n",
       " 957: 'Big Data Developer(C++)',\n",
       " 958: 'Big Data Engineer',\n",
       " 959: 'Big Data Engineer ',\n",
       " 960: 'Big Data Search Developer',\n",
       " 961: 'Big Data Technologies - Snr Dev',\n",
       " 962: 'Big-Data Solution Architect',\n",
       " 963: 'BigData Consultant',\n",
       " 964: 'Bilingual (Spanish/English) Customer Service Specialist',\n",
       " 965: 'Bilingual (Spanish/English) Support Technician',\n",
       " 966: 'Bilingual Digital Media Content Analyst/Archivist',\n",
       " 967: 'Bilingual Loan Specialist - English/Spanish',\n",
       " 968: 'Bilingual Managerial Assistant',\n",
       " 969: 'Bilingual Products and Services Coordinator II',\n",
       " 970: 'Bilingual Retail Demonstrator',\n",
       " 971: 'Bilingual Sales Professional - Spanish/English',\n",
       " 972: 'Bilingual Senior Project Manager ',\n",
       " 973: 'Bilingual SharePoint Developer ',\n",
       " 974: 'Bilingual(English/Spanish) Certified Nursing Assistant',\n",
       " 975: 'Bill Review Manager',\n",
       " 976: 'Billing Administrator',\n",
       " 977: 'Billing Clerk',\n",
       " 978: 'Billing Representative | Healthcare',\n",
       " 979: 'Billing Specialist',\n",
       " 980: 'Bindery Operator',\n",
       " 981: 'Bindery Supervisor',\n",
       " 982: 'Biomedical Engineer',\n",
       " 983: 'Birmingham Admin Assistant Apprenticeship Under NAS 16-18 Year Olds Only',\n",
       " 984: 'Birmingham Apprenticeships Under NAS 16-18 Year Olds Only',\n",
       " 985: 'Birmingham Business Admin Apprenticeship Under NAS 16-18 Year Olds Only',\n",
       " 986: 'Birmingham Fragrance and Beauty Promotional Staff',\n",
       " 987: 'Birmingham Recruitment Apprenticeship Under NAS 16-18 Year Olds Only',\n",
       " 988: 'Bitcoin Tool Developer',\n",
       " 989: 'BizDev and sales',\n",
       " 990: 'BizTalk Administrator',\n",
       " 991: 'BizTalk Developer',\n",
       " 992: 'Blender Developer',\n",
       " 993: 'Blip Builder / Mobile Augmented Reality Developer',\n",
       " 994: 'Blipp Architect (Full Stack Developer)',\n",
       " 995: 'Blipp Dev (3D)',\n",
       " 996: 'Blipp Developer',\n",
       " 997: 'Blipp Developer ',\n",
       " 998: 'Blipp Developer - TK',\n",
       " 999: 'Blipp Developer / Mobile Augmented Reality Developer',\n",
       " ...}"
      ]
     },
     "execution_count": 62,
     "metadata": {},
     "output_type": "execute_result"
    }
   ],
   "source": [
    "from sklearn.preprocessing import LabelEncoder\n",
    "gle = LabelEncoder()\n",
    "genre_labels = gle.fit_transform(df_new1['title'])\n",
    "genre_mappings = {index: label for index, label in \n",
    "                  enumerate(gle.classes_)}\n",
    "genre_mappings"
   ]
  },
  {
   "cell_type": "code",
   "execution_count": 63,
   "metadata": {},
   "outputs": [],
   "source": [
    "df_new1['title'] = genre_labels"
   ]
  },
  {
   "cell_type": "code",
   "execution_count": 64,
   "metadata": {
    "scrolled": true
   },
   "outputs": [
    {
     "data": {
      "text/plain": [
       "{0: 'AE',\n",
       " 1: 'AL',\n",
       " 2: 'AM',\n",
       " 3: 'AR',\n",
       " 4: 'AT',\n",
       " 5: 'AU',\n",
       " 6: 'BD',\n",
       " 7: 'BE',\n",
       " 8: 'BG',\n",
       " 9: 'BH',\n",
       " 10: 'BR',\n",
       " 11: 'BY',\n",
       " 12: 'CA',\n",
       " 13: 'CH',\n",
       " 14: 'CL',\n",
       " 15: 'CM',\n",
       " 16: 'CN',\n",
       " 17: 'CO',\n",
       " 18: 'CY',\n",
       " 19: 'CZ',\n",
       " 20: 'DE',\n",
       " 21: 'DK',\n",
       " 22: 'EE',\n",
       " 23: 'EG',\n",
       " 24: 'ES',\n",
       " 25: 'FI',\n",
       " 26: 'FR',\n",
       " 27: 'GB',\n",
       " 28: 'GH',\n",
       " 29: 'GR',\n",
       " 30: 'HK',\n",
       " 31: 'HR',\n",
       " 32: 'HU',\n",
       " 33: 'ID',\n",
       " 34: 'IE',\n",
       " 35: 'IL',\n",
       " 36: 'IN',\n",
       " 37: 'IQ',\n",
       " 38: 'IS',\n",
       " 39: 'IT',\n",
       " 40: 'JM',\n",
       " 41: 'JP',\n",
       " 42: 'KE',\n",
       " 43: 'KH',\n",
       " 44: 'KR',\n",
       " 45: 'KW',\n",
       " 46: 'KZ',\n",
       " 47: 'LK',\n",
       " 48: 'LT',\n",
       " 49: 'LU',\n",
       " 50: 'LV',\n",
       " 51: 'MA',\n",
       " 52: 'MT',\n",
       " 53: 'MU',\n",
       " 54: 'MX',\n",
       " 55: 'MY',\n",
       " 56: 'NG',\n",
       " 57: 'NI',\n",
       " 58: 'NL',\n",
       " 59: 'NO',\n",
       " 60: 'NZ',\n",
       " 61: 'PA',\n",
       " 62: 'PE',\n",
       " 63: 'PH',\n",
       " 64: 'PK',\n",
       " 65: 'PL',\n",
       " 66: 'PT',\n",
       " 67: 'QA',\n",
       " 68: 'RO',\n",
       " 69: 'RS',\n",
       " 70: 'RU',\n",
       " 71: 'SA',\n",
       " 72: 'SD',\n",
       " 73: 'SE',\n",
       " 74: 'SG',\n",
       " 75: 'SI',\n",
       " 76: 'SK',\n",
       " 77: 'SV',\n",
       " 78: 'TH',\n",
       " 79: 'TN',\n",
       " 80: 'TR',\n",
       " 81: 'TT',\n",
       " 82: 'TW',\n",
       " 83: 'UA',\n",
       " 84: 'UG',\n",
       " 85: 'US',\n",
       " 86: 'VI',\n",
       " 87: 'VN',\n",
       " 88: 'ZA',\n",
       " 89: 'ZM'}"
      ]
     },
     "execution_count": 64,
     "metadata": {},
     "output_type": "execute_result"
    }
   ],
   "source": [
    "gle = LabelEncoder()\n",
    "genre_labels = gle.fit_transform(df_new1['Location'])\n",
    "genre_mappings = {index: label for index, label in \n",
    "                  enumerate(gle.classes_)}\n",
    "genre_mappings"
   ]
  },
  {
   "cell_type": "code",
   "execution_count": 65,
   "metadata": {},
   "outputs": [],
   "source": [
    "df_new1['Location'] = genre_labels"
   ]
  },
  {
   "cell_type": "code",
   "execution_count": 66,
   "metadata": {},
   "outputs": [
    {
     "data": {
      "text/plain": [
       "{'f': 0, 't': 1}"
      ]
     },
     "execution_count": 66,
     "metadata": {},
     "output_type": "execute_result"
    }
   ],
   "source": [
    "class_mapping = {label:idx for idx,label in\n",
    "                 enumerate(np.unique(df_new1['telecommuting']))}\n",
    "\n",
    "class_mapping"
   ]
  },
  {
   "cell_type": "code",
   "execution_count": 67,
   "metadata": {},
   "outputs": [],
   "source": [
    "df_new1['telecommuting'] = df_new1['telecommuting'].map(class_mapping)"
   ]
  },
  {
   "cell_type": "code",
   "execution_count": 68,
   "metadata": {},
   "outputs": [
    {
     "data": {
      "text/plain": [
       "{'f': 0, 't': 1}"
      ]
     },
     "execution_count": 68,
     "metadata": {},
     "output_type": "execute_result"
    }
   ],
   "source": [
    "class_mapping1 = {label:idx for idx,label in\n",
    "                 enumerate(np.unique(df_new1['has_company_logo']))}\n",
    "\n",
    "class_mapping1"
   ]
  },
  {
   "cell_type": "code",
   "execution_count": 69,
   "metadata": {},
   "outputs": [],
   "source": [
    "df_new1['has_company_logo'] = df_new1['has_company_logo'].map(class_mapping1)"
   ]
  },
  {
   "cell_type": "code",
   "execution_count": 70,
   "metadata": {},
   "outputs": [
    {
     "data": {
      "text/plain": [
       "{'f': 0, 't': 1}"
      ]
     },
     "execution_count": 70,
     "metadata": {},
     "output_type": "execute_result"
    }
   ],
   "source": [
    "class_mapping2 = {label:idx for idx,label in\n",
    "                 enumerate(np.unique(df_new1['has_questions']))}\n",
    "\n",
    "class_mapping2"
   ]
  },
  {
   "cell_type": "code",
   "execution_count": 71,
   "metadata": {},
   "outputs": [
    {
     "data": {
      "text/plain": [
       "{'f': 0, 't': 1}"
      ]
     },
     "execution_count": 71,
     "metadata": {},
     "output_type": "execute_result"
    }
   ],
   "source": [
    "class_mapping2 = {label:idx for idx,label in\n",
    "                 enumerate(np.unique(df_new1['has_questions']))}\n",
    "\n",
    "class_mapping2"
   ]
  },
  {
   "cell_type": "code",
   "execution_count": 72,
   "metadata": {},
   "outputs": [],
   "source": [
    "df_new1['has_questions'] = df_new1['has_questions'].map(class_mapping2)"
   ]
  },
  {
   "cell_type": "code",
   "execution_count": 73,
   "metadata": {},
   "outputs": [
    {
     "data": {
      "text/plain": [
       "{'f': 0, 't': 1}"
      ]
     },
     "execution_count": 73,
     "metadata": {},
     "output_type": "execute_result"
    }
   ],
   "source": [
    "class_mapping3 = {label:idx for idx,label in\n",
    "                 enumerate(np.unique(df_new1['in_balanced_dataset']))}\n",
    "\n",
    "class_mapping3"
   ]
  },
  {
   "cell_type": "code",
   "execution_count": 74,
   "metadata": {},
   "outputs": [],
   "source": [
    "df_new1['in_balanced_dataset'] = df_new1['in_balanced_dataset'].map(class_mapping3)"
   ]
  },
  {
   "cell_type": "code",
   "execution_count": 75,
   "metadata": {},
   "outputs": [],
   "source": [
    "class_mapping4 = {label:idx for idx,label in\n",
    "                 enumerate(np.unique(df_new1['fraudulent']))}\n",
    "\n",
    "class_mapping4\n",
    "df_new1['fraudulent'] = df_new1['fraudulent'].map(class_mapping4)"
   ]
  },
  {
   "cell_type": "code",
   "execution_count": 76,
   "metadata": {},
   "outputs": [
    {
     "data": {
      "text/plain": [
       "{0: 'Contract', 1: 'Full-time', 2: 'Other', 3: 'Part-time', 4: 'Temporary'}"
      ]
     },
     "execution_count": 76,
     "metadata": {},
     "output_type": "execute_result"
    }
   ],
   "source": [
    "from sklearn.preprocessing import LabelEncoder\n",
    "gle = LabelEncoder()\n",
    "genre_labels = gle.fit_transform(df_new1['employment_type'])\n",
    "genre_mappings = {index: label for index, label in \n",
    "                  enumerate(gle.classes_)}\n",
    "genre_mappings"
   ]
  },
  {
   "cell_type": "code",
   "execution_count": 77,
   "metadata": {},
   "outputs": [],
   "source": [
    "df_new1['employment_type'] = genre_labels"
   ]
  },
  {
   "cell_type": "code",
   "execution_count": 78,
   "metadata": {},
   "outputs": [
    {
     "data": {
      "text/plain": [
       "{0: 'Associate',\n",
       " 1: 'Director',\n",
       " 2: 'Entry level',\n",
       " 3: 'Executive',\n",
       " 4: 'Internship',\n",
       " 5: 'Mid-Senior level',\n",
       " 6: 'Not Applicable'}"
      ]
     },
     "execution_count": 78,
     "metadata": {},
     "output_type": "execute_result"
    }
   ],
   "source": [
    "gle = LabelEncoder()\n",
    "genre_labels = gle.fit_transform(df_new1['required_experience'])\n",
    "genre_mappings = {index: label for index, label in \n",
    "                  enumerate(gle.classes_)}\n",
    "genre_mappings"
   ]
  },
  {
   "cell_type": "code",
   "execution_count": 79,
   "metadata": {},
   "outputs": [],
   "source": [
    "df_new1['required_experience'] = genre_labels"
   ]
  },
  {
   "cell_type": "code",
   "execution_count": 80,
   "metadata": {},
   "outputs": [
    {
     "data": {
      "text/plain": [
       "{0: 'Associate Degree',\n",
       " 1: \"Bachelor's Degree\",\n",
       " 2: 'Certification',\n",
       " 3: 'Doctorate',\n",
       " 4: 'High School or equivalent',\n",
       " 5: \"Master's Degree\",\n",
       " 6: 'Professional',\n",
       " 7: 'Some College Coursework Completed',\n",
       " 8: 'Some High School Coursework',\n",
       " 9: 'Unspecified',\n",
       " 10: 'Vocational',\n",
       " 11: 'Vocational - Degree',\n",
       " 12: 'Vocational - HS Diploma'}"
      ]
     },
     "execution_count": 80,
     "metadata": {},
     "output_type": "execute_result"
    }
   ],
   "source": [
    "gle = LabelEncoder()\n",
    "genre_labels = gle.fit_transform(df_new1['required_education'])\n",
    "genre_mappings = {index: label for index, label in \n",
    "                  enumerate(gle.classes_)}\n",
    "genre_mappings"
   ]
  },
  {
   "cell_type": "code",
   "execution_count": 81,
   "metadata": {},
   "outputs": [],
   "source": [
    "df_new1['required_education'] = genre_labels"
   ]
  },
  {
   "cell_type": "code",
   "execution_count": 82,
   "metadata": {},
   "outputs": [
    {
     "data": {
      "text/plain": [
       "{0: 'Accounting',\n",
       " 1: 'Airlines/Aviation',\n",
       " 2: 'Alternative Dispute Resolution',\n",
       " 3: 'Animation',\n",
       " 4: 'Apparel & Fashion',\n",
       " 5: 'Architecture & Planning',\n",
       " 6: 'Automotive',\n",
       " 7: 'Aviation & Aerospace',\n",
       " 8: 'Banking',\n",
       " 9: 'Biotechnology',\n",
       " 10: 'Broadcast Media',\n",
       " 11: 'Building Materials',\n",
       " 12: 'Business Supplies and Equipment',\n",
       " 13: 'Capital Markets',\n",
       " 14: 'Chemicals',\n",
       " 15: 'Civic & Social Organization',\n",
       " 16: 'Civil Engineering',\n",
       " 17: 'Commercial Real Estate',\n",
       " 18: 'Computer & Network Security',\n",
       " 19: 'Computer Games',\n",
       " 20: 'Computer Hardware',\n",
       " 21: 'Computer Networking',\n",
       " 22: 'Computer Software',\n",
       " 23: 'Construction',\n",
       " 24: 'Consumer Electronics',\n",
       " 25: 'Consumer Goods',\n",
       " 26: 'Consumer Services',\n",
       " 27: 'Cosmetics',\n",
       " 28: 'Defense & Space',\n",
       " 29: 'Design',\n",
       " 30: 'E-Learning',\n",
       " 31: 'Education Management',\n",
       " 32: 'Electrical/Electronic Manufacturing',\n",
       " 33: 'Entertainment',\n",
       " 34: 'Environmental Services',\n",
       " 35: 'Events Services',\n",
       " 36: 'Executive Office',\n",
       " 37: 'Facilities Services',\n",
       " 38: 'Farming',\n",
       " 39: 'Financial Services',\n",
       " 40: 'Fishery',\n",
       " 41: 'Food & Beverages',\n",
       " 42: 'Food Production',\n",
       " 43: 'Fund-Raising',\n",
       " 44: 'Furniture',\n",
       " 45: 'Gambling & Casinos',\n",
       " 46: 'Government Administration',\n",
       " 47: 'Government Relations',\n",
       " 48: 'Graphic Design',\n",
       " 49: 'Health, Wellness and Fitness',\n",
       " 50: 'Higher Education',\n",
       " 51: 'Hospital & Health Care',\n",
       " 52: 'Hospitality',\n",
       " 53: 'Human Resources',\n",
       " 54: 'Import and Export',\n",
       " 55: 'Individual & Family Services',\n",
       " 56: 'Industrial Automation',\n",
       " 57: 'Information Services',\n",
       " 58: 'Information Technology and Services',\n",
       " 59: 'Insurance',\n",
       " 60: 'International Trade and Development',\n",
       " 61: 'Internet',\n",
       " 62: 'Investment Banking',\n",
       " 63: 'Investment Management',\n",
       " 64: 'Law Enforcement',\n",
       " 65: 'Law Practice',\n",
       " 66: 'Legal Services',\n",
       " 67: 'Leisure, Travel & Tourism',\n",
       " 68: 'Libraries',\n",
       " 69: 'Logistics and Supply Chain',\n",
       " 70: 'Luxury Goods & Jewelry',\n",
       " 71: 'Machinery',\n",
       " 72: 'Management Consulting',\n",
       " 73: 'Maritime',\n",
       " 74: 'Market Research',\n",
       " 75: 'Marketing and Advertising',\n",
       " 76: 'Mechanical or Industrial Engineering',\n",
       " 77: 'Media Production',\n",
       " 78: 'Medical Devices',\n",
       " 79: 'Medical Practice',\n",
       " 80: 'Mental Health Care',\n",
       " 81: 'Military',\n",
       " 82: 'Mining & Metals',\n",
       " 83: 'Motion Pictures and Film',\n",
       " 84: 'Museums and Institutions',\n",
       " 85: 'Music',\n",
       " 86: 'Nanotechnology',\n",
       " 87: 'Nonprofit Organization Management',\n",
       " 88: 'Oil & Energy',\n",
       " 89: 'Online Media',\n",
       " 90: 'Outsourcing/Offshoring',\n",
       " 91: 'Package/Freight Delivery',\n",
       " 92: 'Packaging and Containers',\n",
       " 93: 'Performing Arts',\n",
       " 94: 'Pharmaceuticals',\n",
       " 95: 'Philanthropy',\n",
       " 96: 'Photography',\n",
       " 97: 'Plastics',\n",
       " 98: 'Primary/Secondary Education',\n",
       " 99: 'Printing',\n",
       " 100: 'Professional Training & Coaching',\n",
       " 101: 'Program Development',\n",
       " 102: 'Public Policy',\n",
       " 103: 'Public Relations and Communications',\n",
       " 104: 'Public Safety',\n",
       " 105: 'Publishing',\n",
       " 106: 'Ranching',\n",
       " 107: 'Real Estate',\n",
       " 108: 'Religious Institutions',\n",
       " 109: 'Renewables & Environment',\n",
       " 110: 'Research',\n",
       " 111: 'Restaurants',\n",
       " 112: 'Retail',\n",
       " 113: 'Security and Investigations',\n",
       " 114: 'Semiconductors',\n",
       " 115: 'Shipbuilding',\n",
       " 116: 'Sporting Goods',\n",
       " 117: 'Sports',\n",
       " 118: 'Staffing and Recruiting',\n",
       " 119: 'Telecommunications',\n",
       " 120: 'Textiles',\n",
       " 121: 'Translation and Localization',\n",
       " 122: 'Transportation/Trucking/Railroad',\n",
       " 123: 'Utilities',\n",
       " 124: 'Venture Capital & Private Equity',\n",
       " 125: 'Veterinary',\n",
       " 126: 'Warehousing',\n",
       " 127: 'Wholesale',\n",
       " 128: 'Wine and Spirits',\n",
       " 129: 'Wireless',\n",
       " 130: 'Writing and Editing'}"
      ]
     },
     "execution_count": 82,
     "metadata": {},
     "output_type": "execute_result"
    }
   ],
   "source": [
    "gle = LabelEncoder()\n",
    "genre_labels = gle.fit_transform(df_new1['industry'])\n",
    "genre_mappings = {index: label for index, label in \n",
    "                  enumerate(gle.classes_)}\n",
    "genre_mappings"
   ]
  },
  {
   "cell_type": "code",
   "execution_count": 83,
   "metadata": {},
   "outputs": [],
   "source": [
    "df_new1['industry'] = genre_labels"
   ]
  },
  {
   "cell_type": "code",
   "execution_count": 84,
   "metadata": {
    "scrolled": true
   },
   "outputs": [
    {
     "data": {
      "text/plain": [
       "{0: 'Accounting/Auditing',\n",
       " 1: 'Administrative',\n",
       " 2: 'Advertising',\n",
       " 3: 'Art/Creative',\n",
       " 4: 'Business Analyst',\n",
       " 5: 'Business Development',\n",
       " 6: 'Consulting',\n",
       " 7: 'Customer Service',\n",
       " 8: 'Data Analyst',\n",
       " 9: 'Design',\n",
       " 10: 'Distribution',\n",
       " 11: 'Education',\n",
       " 12: 'Engineering',\n",
       " 13: 'Finance',\n",
       " 14: 'Financial Analyst',\n",
       " 15: 'General Business',\n",
       " 16: 'Health Care Provider',\n",
       " 17: 'Human Resources',\n",
       " 18: 'Information Technology',\n",
       " 19: 'Legal',\n",
       " 20: 'Management',\n",
       " 21: 'Manufacturing',\n",
       " 22: 'Marketing',\n",
       " 23: 'Other',\n",
       " 24: 'Product Management',\n",
       " 25: 'Production',\n",
       " 26: 'Project Management',\n",
       " 27: 'Public Relations',\n",
       " 28: 'Purchasing',\n",
       " 29: 'Quality Assurance',\n",
       " 30: 'Research',\n",
       " 31: 'Sales',\n",
       " 32: 'Science',\n",
       " 33: 'Strategy/Planning',\n",
       " 34: 'Supply Chain',\n",
       " 35: 'Training',\n",
       " 36: 'Writing/Editing'}"
      ]
     },
     "execution_count": 84,
     "metadata": {},
     "output_type": "execute_result"
    }
   ],
   "source": [
    "gle = LabelEncoder()\n",
    "genre_labels = gle.fit_transform(df_new1['function'])\n",
    "genre_mappings = {index: label for index, label in \n",
    "                  enumerate(gle.classes_)}\n",
    "genre_mappings"
   ]
  },
  {
   "cell_type": "code",
   "execution_count": 85,
   "metadata": {},
   "outputs": [],
   "source": [
    "df_new1['function'] = genre_labels"
   ]
  },
  {
   "cell_type": "code",
   "execution_count": 86,
   "metadata": {},
   "outputs": [
    {
     "data": {
      "text/html": [
       "<div>\n",
       "<style scoped>\n",
       "    .dataframe tbody tr th:only-of-type {\n",
       "        vertical-align: middle;\n",
       "    }\n",
       "\n",
       "    .dataframe tbody tr th {\n",
       "        vertical-align: top;\n",
       "    }\n",
       "\n",
       "    .dataframe thead th {\n",
       "        text-align: right;\n",
       "    }\n",
       "</style>\n",
       "<table border=\"1\" class=\"dataframe\">\n",
       "  <thead>\n",
       "    <tr style=\"text-align: right;\">\n",
       "      <th></th>\n",
       "      <th>title</th>\n",
       "      <th>Location</th>\n",
       "      <th>telecommuting</th>\n",
       "      <th>has_company_logo</th>\n",
       "      <th>has_questions</th>\n",
       "      <th>employment_type</th>\n",
       "      <th>required_experience</th>\n",
       "      <th>required_education</th>\n",
       "      <th>industry</th>\n",
       "      <th>function</th>\n",
       "      <th>in_balanced_dataset</th>\n",
       "      <th>fraudulent</th>\n",
       "    </tr>\n",
       "  </thead>\n",
       "  <tbody>\n",
       "    <tr>\n",
       "      <th>0</th>\n",
       "      <td>6036</td>\n",
       "      <td>85</td>\n",
       "      <td>0</td>\n",
       "      <td>1</td>\n",
       "      <td>0</td>\n",
       "      <td>2</td>\n",
       "      <td>4</td>\n",
       "      <td>1</td>\n",
       "      <td>58</td>\n",
       "      <td>22</td>\n",
       "      <td>0</td>\n",
       "      <td>0</td>\n",
       "    </tr>\n",
       "    <tr>\n",
       "      <th>1</th>\n",
       "      <td>2182</td>\n",
       "      <td>60</td>\n",
       "      <td>0</td>\n",
       "      <td>1</td>\n",
       "      <td>0</td>\n",
       "      <td>1</td>\n",
       "      <td>6</td>\n",
       "      <td>1</td>\n",
       "      <td>75</td>\n",
       "      <td>7</td>\n",
       "      <td>0</td>\n",
       "      <td>0</td>\n",
       "    </tr>\n",
       "    <tr>\n",
       "      <th>2</th>\n",
       "      <td>1763</td>\n",
       "      <td>85</td>\n",
       "      <td>0</td>\n",
       "      <td>1</td>\n",
       "      <td>0</td>\n",
       "      <td>1</td>\n",
       "      <td>5</td>\n",
       "      <td>1</td>\n",
       "      <td>58</td>\n",
       "      <td>18</td>\n",
       "      <td>0</td>\n",
       "      <td>0</td>\n",
       "    </tr>\n",
       "    <tr>\n",
       "      <th>3</th>\n",
       "      <td>300</td>\n",
       "      <td>85</td>\n",
       "      <td>0</td>\n",
       "      <td>1</td>\n",
       "      <td>0</td>\n",
       "      <td>1</td>\n",
       "      <td>5</td>\n",
       "      <td>1</td>\n",
       "      <td>22</td>\n",
       "      <td>31</td>\n",
       "      <td>0</td>\n",
       "      <td>0</td>\n",
       "    </tr>\n",
       "    <tr>\n",
       "      <th>4</th>\n",
       "      <td>975</td>\n",
       "      <td>85</td>\n",
       "      <td>0</td>\n",
       "      <td>1</td>\n",
       "      <td>1</td>\n",
       "      <td>1</td>\n",
       "      <td>5</td>\n",
       "      <td>1</td>\n",
       "      <td>51</td>\n",
       "      <td>16</td>\n",
       "      <td>0</td>\n",
       "      <td>0</td>\n",
       "    </tr>\n",
       "  </tbody>\n",
       "</table>\n",
       "</div>"
      ],
      "text/plain": [
       "   title  Location  telecommuting  has_company_logo  has_questions  \\\n",
       "0   6036        85              0                 1              0   \n",
       "1   2182        60              0                 1              0   \n",
       "2   1763        85              0                 1              0   \n",
       "3    300        85              0                 1              0   \n",
       "4    975        85              0                 1              1   \n",
       "\n",
       "   employment_type  required_experience  required_education  industry  \\\n",
       "0                2                    4                   1        58   \n",
       "1                1                    6                   1        75   \n",
       "2                1                    5                   1        58   \n",
       "3                1                    5                   1        22   \n",
       "4                1                    5                   1        51   \n",
       "\n",
       "   function  in_balanced_dataset  fraudulent  \n",
       "0        22                    0           0  \n",
       "1         7                    0           0  \n",
       "2        18                    0           0  \n",
       "3        31                    0           0  \n",
       "4        16                    0           0  "
      ]
     },
     "execution_count": 86,
     "metadata": {},
     "output_type": "execute_result"
    }
   ],
   "source": [
    "df_new1.head()"
   ]
  },
  {
   "cell_type": "code",
   "execution_count": 87,
   "metadata": {},
   "outputs": [
    {
     "data": {
      "text/plain": [
       "(17860, 12)"
      ]
     },
     "execution_count": 87,
     "metadata": {},
     "output_type": "execute_result"
    }
   ],
   "source": [
    "df_new1.shape"
   ]
  },
  {
   "cell_type": "code",
   "execution_count": 88,
   "metadata": {},
   "outputs": [
    {
     "data": {
      "text/plain": [
       "title                  int64\n",
       "Location               int64\n",
       "telecommuting          int64\n",
       "has_company_logo       int64\n",
       "has_questions          int64\n",
       "employment_type        int64\n",
       "required_experience    int64\n",
       "required_education     int64\n",
       "industry               int64\n",
       "function               int64\n",
       "in_balanced_dataset    int64\n",
       "fraudulent             int64\n",
       "dtype: object"
      ]
     },
     "execution_count": 88,
     "metadata": {},
     "output_type": "execute_result"
    }
   ],
   "source": [
    "df_new1.dtypes"
   ]
  },
  {
   "cell_type": "code",
   "execution_count": 89,
   "metadata": {},
   "outputs": [],
   "source": [
    "## Feature Selection Techniques"
   ]
  },
  {
   "cell_type": "code",
   "execution_count": 90,
   "metadata": {},
   "outputs": [],
   "source": [
    "# split into input (X) and output (y) variables\n",
    "X = df_new1.iloc[:, :-1]\n",
    "y = df_new1.iloc[:,-1]"
   ]
  },
  {
   "cell_type": "code",
   "execution_count": 91,
   "metadata": {},
   "outputs": [],
   "source": [
    "# 1. Univariate Statistics "
   ]
  },
  {
   "cell_type": "code",
   "execution_count": 92,
   "metadata": {},
   "outputs": [
    {
     "name": "stdout",
     "output_type": "stream",
     "text": [
      "X_train.shape: (8930, 61)\n",
      "X_train_selected.shape: (8930, 30)\n"
     ]
    }
   ],
   "source": [
    "from sklearn.feature_selection import SelectPercentile \n",
    "from sklearn.model_selection import train_test_split\n",
    "\n",
    "# get deterministic random numbers \n",
    "rng = np.random.RandomState(42) \n",
    "noise = rng.normal(size=(len(X), 50)) \n",
    "\n",
    "# add noise features to the data \n",
    "# the first 30 features are from the dataset, the next 50 are noise \n",
    "X_w_noise = np.hstack([X, noise])\n",
    "X_train, X_test, y_train, y_test = train_test_split(X_w_noise, y, random_state=0, test_size=.5)\n",
    "\n",
    "# use f_classif (the default) and SelectPercentile to select 50% of features \n",
    "select = SelectPercentile(percentile=50) \n",
    "select.fit(X_train, y_train) \n",
    "\n",
    "# transform training set \n",
    "X_train_selected = select.transform(X_train)\n",
    "print(\"X_train.shape: {}\".format(X_train.shape)) \n",
    "print(\"X_train_selected.shape: {}\".format(X_train_selected.shape))"
   ]
  },
  {
   "cell_type": "code",
   "execution_count": 93,
   "metadata": {},
   "outputs": [
    {
     "name": "stdout",
     "output_type": "stream",
     "text": [
      "Score with all features: 0.966\n",
      "Score with only selected features: 0.965\n"
     ]
    }
   ],
   "source": [
    "from sklearn.linear_model import LogisticRegression\n",
    "# transform test data \n",
    "X_test_selected = select.transform(X_test)\n",
    "lr = LogisticRegression() \n",
    "lr.fit(X_train, y_train) \n",
    "print(\"Score with all features: {:.3f}\".format(lr.score(X_test, y_test))) \n",
    "lr.fit(X_train_selected, y_train) \n",
    "print(\"Score with only selected features: {:.3f}\".format(lr.score(X_test_selected, y_test)))"
   ]
  },
  {
   "cell_type": "markdown",
   "metadata": {},
   "source": [
    "2. Model-Based Feature Selection"
   ]
  },
  {
   "cell_type": "code",
   "execution_count": 94,
   "metadata": {},
   "outputs": [
    {
     "name": "stderr",
     "output_type": "stream",
     "text": [
      "C:\\Users\\bency\\Anaconda3\\lib\\site-packages\\sklearn\\ensemble\\weight_boosting.py:29: DeprecationWarning: numpy.core.umath_tests is an internal NumPy module and should not be imported. It will be removed in a future NumPy release.\n",
      "  from numpy.core.umath_tests import inner1d\n"
     ]
    },
    {
     "name": "stdout",
     "output_type": "stream",
     "text": [
      "X_train.shape: (8930, 61)\n",
      "X_train_l1.shape: (8930, 31)\n"
     ]
    }
   ],
   "source": [
    "from sklearn.feature_selection import SelectFromModel \n",
    "from sklearn.ensemble import RandomForestClassifier \n",
    "select = SelectFromModel(RandomForestClassifier(n_estimators=100, random_state=42),threshold=\"median\")\n",
    "select.fit(X_train, y_train) \n",
    "X_train_l1 = select.transform(X_train) \n",
    "print(\"X_train.shape: {}\".format(X_train.shape)) \n",
    "print(\"X_train_l1.shape: {}\".format(X_train_l1.shape))"
   ]
  },
  {
   "cell_type": "code",
   "execution_count": 95,
   "metadata": {},
   "outputs": [
    {
     "name": "stdout",
     "output_type": "stream",
     "text": [
      "Test score: 0.966\n"
     ]
    }
   ],
   "source": [
    "X_test_l1 = select.transform(X_test) \n",
    "score = LogisticRegression().fit(X_train_l1, y_train).score(X_test_l1, y_test) \n",
    "print(\"Test score: {:.3f}\".format(score))"
   ]
  },
  {
   "cell_type": "markdown",
   "metadata": {},
   "source": [
    "3. Iterative Feature Selection "
   ]
  },
  {
   "cell_type": "code",
   "execution_count": 96,
   "metadata": {},
   "outputs": [
    {
     "name": "stdout",
     "output_type": "stream",
     "text": [
      "Test score: 0.967\n",
      "Test score 0.968\n"
     ]
    }
   ],
   "source": [
    "from sklearn.feature_selection import RFE \n",
    "select = RFE(RandomForestClassifier(n_estimators=100, random_state=42),n_features_to_select=40)\n",
    "select.fit(X_train, y_train) \n",
    "X_train_rfe= select.transform(X_train) \n",
    "X_test_rfe= select.transform(X_test)\n",
    "score = LogisticRegression().fit(X_train_rfe, y_train).score(X_test_rfe, y_test) \n",
    "print(\"Test score: {:.3f}\".format(score))\n",
    "print(\"Test score {:.3f}\".format(select.score(X_test, y_test)))"
   ]
  },
  {
   "cell_type": "markdown",
   "metadata": {},
   "source": [
    "4. Pearson’s correlation"
   ]
  },
  {
   "cell_type": "code",
   "execution_count": 97,
   "metadata": {},
   "outputs": [
    {
     "name": "stdout",
     "output_type": "stream",
     "text": [
      "5 selected features\n"
     ]
    }
   ],
   "source": [
    "def cor_selector(X, y,num_feats):\n",
    "\n",
    "    cor_list = []\n",
    "\n",
    "    feature_name = X.columns.tolist()\n",
    "\n",
    "    # calculate the correlation with y for each feature\n",
    "\n",
    "    for i in X.columns.tolist():\n",
    "\n",
    "        cor = np.corrcoef(X[i], y)[0, 1]\n",
    "\n",
    "        cor_list.append(cor)\n",
    "\n",
    "    # replace NaN with 0\n",
    "\n",
    "    cor_list = [0 if np.isnan(i) else i for i in cor_list]\n",
    "\n",
    "    # feature name\n",
    "\n",
    "    cor_feature = X.iloc[:,np.argsort(np.abs(cor_list))[-num_feats:]].columns.tolist()\n",
    "\n",
    "    # feature selection? 0 for not select, 1 for select\n",
    "\n",
    "    cor_support = [True if i in cor_feature else False for i in feature_name]\n",
    "\n",
    "    return cor_support, cor_feature\n",
    "\n",
    "cor_support, cor_feature = cor_selector(X, y,5)\n",
    "\n",
    "print(str(len(cor_feature)), 'selected features')"
   ]
  },
  {
   "cell_type": "markdown",
   "metadata": {},
   "source": [
    "5.Chi-Squared"
   ]
  },
  {
   "cell_type": "code",
   "execution_count": 98,
   "metadata": {},
   "outputs": [
    {
     "name": "stdout",
     "output_type": "stream",
     "text": [
      "5 selected features\n"
     ]
    }
   ],
   "source": [
    "from sklearn.feature_selection import SelectKBest\n",
    "from sklearn.feature_selection import chi2\n",
    "from sklearn.preprocessing import MinMaxScaler\n",
    "X_norm = MinMaxScaler().fit_transform(X)\n",
    "chi_selector = SelectKBest(chi2, k=5)\n",
    "chi_selector.fit(X_norm, y)\n",
    "chi_support = chi_selector.get_support()\n",
    "chi_feature = X.loc[:,chi_support].columns.tolist()\n",
    "print(str(len(chi_feature)), 'selected features')"
   ]
  }
 ],
 "metadata": {
  "kernelspec": {
   "display_name": "Python 3",
   "language": "python",
   "name": "python3"
  },
  "language_info": {
   "codemirror_mode": {
    "name": "ipython",
    "version": 3
   },
   "file_extension": ".py",
   "mimetype": "text/x-python",
   "name": "python",
   "nbconvert_exporter": "python",
   "pygments_lexer": "ipython3",
   "version": "3.7.0"
  }
 },
 "nbformat": 4,
 "nbformat_minor": 4
}
